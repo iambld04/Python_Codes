{
 "cells": [
  {
   "cell_type": "code",
   "execution_count": 107,
   "metadata": {},
   "outputs": [],
   "source": [
    "import pandas as pd\n",
    "import numpy as np\n",
    "import matplotlib.pyplot as plt"
   ]
  },
  {
   "cell_type": "markdown",
   "metadata": {},
   "source": [
    "# 1D Series\n",
    "# 2D DataFrame\n",
    "# 3D Panel\n",
    "# 4D Panels\n"
   ]
  },
  {
   "cell_type": "code",
   "execution_count": 108,
   "metadata": {},
   "outputs": [],
   "source": [
    "arr1 = np.array([1,2,3,4,5,6])"
   ]
  },
  {
   "cell_type": "code",
   "execution_count": 109,
   "metadata": {},
   "outputs": [
    {
     "data": {
      "text/plain": [
       "0    1\n",
       "1    2\n",
       "2    3\n",
       "3    4\n",
       "4    5\n",
       "5    6\n",
       "dtype: int32"
      ]
     },
     "execution_count": 109,
     "metadata": {},
     "output_type": "execute_result"
    }
   ],
   "source": [
    "pd.Series(arr1)"
   ]
  },
  {
   "cell_type": "code",
   "execution_count": 110,
   "metadata": {},
   "outputs": [],
   "source": [
    "dict1 = {\n",
    "    'Sagar': 22,\n",
    "    'Nikhil': 23,\n",
    "    'Suneel': 24\n",
    "}"
   ]
  },
  {
   "cell_type": "code",
   "execution_count": 111,
   "metadata": {},
   "outputs": [],
   "source": [
    "s = pd.Series(dict1)"
   ]
  },
  {
   "cell_type": "code",
   "execution_count": 112,
   "metadata": {},
   "outputs": [
    {
     "data": {
      "text/plain": [
       "22"
      ]
     },
     "execution_count": 112,
     "metadata": {},
     "output_type": "execute_result"
    }
   ],
   "source": [
    "s['Sagar']"
   ]
  },
  {
   "cell_type": "code",
   "execution_count": 113,
   "metadata": {},
   "outputs": [
    {
     "data": {
      "text/plain": [
       "Index(['Sagar', 'Nikhil', 'Suneel'], dtype='object')"
      ]
     },
     "execution_count": 113,
     "metadata": {},
     "output_type": "execute_result"
    }
   ],
   "source": [
    "s.index"
   ]
  },
  {
   "cell_type": "code",
   "execution_count": 114,
   "metadata": {},
   "outputs": [
    {
     "data": {
      "text/plain": [
       "array([22, 23, 24], dtype=int64)"
      ]
     },
     "execution_count": 114,
     "metadata": {},
     "output_type": "execute_result"
    }
   ],
   "source": [
    "s.values"
   ]
  },
  {
   "cell_type": "code",
   "execution_count": 115,
   "metadata": {},
   "outputs": [],
   "source": [
    "cars = {\n",
    "    'model': ['Toyota','Lamborghini','BMW','Audi','Ferrari','Mercedes Benz'],\n",
    "    'price': [45,56,67,87,67,65],\n",
    "    'color': ['black','white','red','blue','brown','grey']\n",
    "}"
   ]
  },
  {
   "cell_type": "code",
   "execution_count": 116,
   "metadata": {},
   "outputs": [
    {
     "data": {
      "text/plain": [
       "{'model': ['Toyota', 'Lamborghini', 'BMW', 'Audi', 'Ferrari', 'Mercedes Benz'],\n",
       " 'price': [45, 56, 67, 87, 67, 65],\n",
       " 'color': ['black', 'white', 'red', 'blue', 'brown', 'grey']}"
      ]
     },
     "execution_count": 116,
     "metadata": {},
     "output_type": "execute_result"
    }
   ],
   "source": [
    "cars"
   ]
  },
  {
   "cell_type": "code",
   "execution_count": 117,
   "metadata": {},
   "outputs": [
    {
     "data": {
      "text/html": [
       "<div>\n",
       "<style scoped>\n",
       "    .dataframe tbody tr th:only-of-type {\n",
       "        vertical-align: middle;\n",
       "    }\n",
       "\n",
       "    .dataframe tbody tr th {\n",
       "        vertical-align: top;\n",
       "    }\n",
       "\n",
       "    .dataframe thead th {\n",
       "        text-align: right;\n",
       "    }\n",
       "</style>\n",
       "<table border=\"1\" class=\"dataframe\">\n",
       "  <thead>\n",
       "    <tr style=\"text-align: right;\">\n",
       "      <th></th>\n",
       "      <th>model</th>\n",
       "      <th>price</th>\n",
       "      <th>color</th>\n",
       "    </tr>\n",
       "  </thead>\n",
       "  <tbody>\n",
       "    <tr>\n",
       "      <th>0</th>\n",
       "      <td>Toyota</td>\n",
       "      <td>45</td>\n",
       "      <td>black</td>\n",
       "    </tr>\n",
       "    <tr>\n",
       "      <th>1</th>\n",
       "      <td>Lamborghini</td>\n",
       "      <td>56</td>\n",
       "      <td>white</td>\n",
       "    </tr>\n",
       "    <tr>\n",
       "      <th>2</th>\n",
       "      <td>BMW</td>\n",
       "      <td>67</td>\n",
       "      <td>red</td>\n",
       "    </tr>\n",
       "    <tr>\n",
       "      <th>3</th>\n",
       "      <td>Audi</td>\n",
       "      <td>87</td>\n",
       "      <td>blue</td>\n",
       "    </tr>\n",
       "    <tr>\n",
       "      <th>4</th>\n",
       "      <td>Ferrari</td>\n",
       "      <td>67</td>\n",
       "      <td>brown</td>\n",
       "    </tr>\n",
       "    <tr>\n",
       "      <th>5</th>\n",
       "      <td>Mercedes Benz</td>\n",
       "      <td>65</td>\n",
       "      <td>grey</td>\n",
       "    </tr>\n",
       "  </tbody>\n",
       "</table>\n",
       "</div>"
      ],
      "text/plain": [
       "           model  price  color\n",
       "0         Toyota     45  black\n",
       "1    Lamborghini     56  white\n",
       "2            BMW     67    red\n",
       "3           Audi     87   blue\n",
       "4        Ferrari     67  brown\n",
       "5  Mercedes Benz     65   grey"
      ]
     },
     "execution_count": 117,
     "metadata": {},
     "output_type": "execute_result"
    }
   ],
   "source": [
    "pd.DataFrame(cars)"
   ]
  },
  {
   "cell_type": "code",
   "execution_count": 118,
   "metadata": {},
   "outputs": [
    {
     "data": {
      "text/plain": [
       "['Fe', '', 'a', 'i']"
      ]
     },
     "execution_count": 118,
     "metadata": {},
     "output_type": "execute_result"
    }
   ],
   "source": [
    "cars['model'][4].split('r')"
   ]
  },
  {
   "cell_type": "code",
   "execution_count": 119,
   "metadata": {},
   "outputs": [],
   "source": [
    "np.random.seed(10)\n",
    "array1 = np.random.randint(25,50,(5,6))"
   ]
  },
  {
   "cell_type": "code",
   "execution_count": 120,
   "metadata": {},
   "outputs": [
    {
     "data": {
      "text/plain": [
       "array([[34, 29, 40, 25, 42, 41],\n",
       "       [42, 33, 34, 25, 35, 33],\n",
       "       [47, 29, 44, 41, 29, 40],\n",
       "       [36, 47, 49, 36, 26, 33],\n",
       "       [29, 39, 42, 44, 47, 38]])"
      ]
     },
     "execution_count": 120,
     "metadata": {},
     "output_type": "execute_result"
    }
   ],
   "source": [
    "array1"
   ]
  },
  {
   "cell_type": "code",
   "execution_count": 121,
   "metadata": {},
   "outputs": [],
   "source": [
    "students = ['Rahul','Sagar','Suneel','Rohit','Nikhil']"
   ]
  },
  {
   "cell_type": "code",
   "execution_count": 122,
   "metadata": {},
   "outputs": [],
   "source": [
    "subjects = ['Physics','Chemistry','mathematics','Computer Science','English','Kannada']"
   ]
  },
  {
   "cell_type": "code",
   "execution_count": 123,
   "metadata": {},
   "outputs": [],
   "source": [
    "marks = pd.DataFrame(array1,index=students,columns=subjects)"
   ]
  },
  {
   "cell_type": "code",
   "execution_count": 124,
   "metadata": {},
   "outputs": [
    {
     "data": {
      "text/html": [
       "<div>\n",
       "<style scoped>\n",
       "    .dataframe tbody tr th:only-of-type {\n",
       "        vertical-align: middle;\n",
       "    }\n",
       "\n",
       "    .dataframe tbody tr th {\n",
       "        vertical-align: top;\n",
       "    }\n",
       "\n",
       "    .dataframe thead th {\n",
       "        text-align: right;\n",
       "    }\n",
       "</style>\n",
       "<table border=\"1\" class=\"dataframe\">\n",
       "  <thead>\n",
       "    <tr style=\"text-align: right;\">\n",
       "      <th></th>\n",
       "      <th>Physics</th>\n",
       "      <th>Chemistry</th>\n",
       "      <th>mathematics</th>\n",
       "      <th>Computer Science</th>\n",
       "      <th>English</th>\n",
       "      <th>Kannada</th>\n",
       "    </tr>\n",
       "  </thead>\n",
       "  <tbody>\n",
       "    <tr>\n",
       "      <th>Rahul</th>\n",
       "      <td>34</td>\n",
       "      <td>29</td>\n",
       "      <td>40</td>\n",
       "      <td>25</td>\n",
       "      <td>42</td>\n",
       "      <td>41</td>\n",
       "    </tr>\n",
       "    <tr>\n",
       "      <th>Sagar</th>\n",
       "      <td>42</td>\n",
       "      <td>33</td>\n",
       "      <td>34</td>\n",
       "      <td>25</td>\n",
       "      <td>35</td>\n",
       "      <td>33</td>\n",
       "    </tr>\n",
       "    <tr>\n",
       "      <th>Suneel</th>\n",
       "      <td>47</td>\n",
       "      <td>29</td>\n",
       "      <td>44</td>\n",
       "      <td>41</td>\n",
       "      <td>29</td>\n",
       "      <td>40</td>\n",
       "    </tr>\n",
       "    <tr>\n",
       "      <th>Rohit</th>\n",
       "      <td>36</td>\n",
       "      <td>47</td>\n",
       "      <td>49</td>\n",
       "      <td>36</td>\n",
       "      <td>26</td>\n",
       "      <td>33</td>\n",
       "    </tr>\n",
       "    <tr>\n",
       "      <th>Nikhil</th>\n",
       "      <td>29</td>\n",
       "      <td>39</td>\n",
       "      <td>42</td>\n",
       "      <td>44</td>\n",
       "      <td>47</td>\n",
       "      <td>38</td>\n",
       "    </tr>\n",
       "  </tbody>\n",
       "</table>\n",
       "</div>"
      ],
      "text/plain": [
       "        Physics  Chemistry  mathematics  Computer Science  English  Kannada\n",
       "Rahul        34         29           40                25       42       41\n",
       "Sagar        42         33           34                25       35       33\n",
       "Suneel       47         29           44                41       29       40\n",
       "Rohit        36         47           49                36       26       33\n",
       "Nikhil       29         39           42                44       47       38"
      ]
     },
     "execution_count": 124,
     "metadata": {},
     "output_type": "execute_result"
    }
   ],
   "source": [
    "marks"
   ]
  },
  {
   "cell_type": "code",
   "execution_count": 125,
   "metadata": {},
   "outputs": [
    {
     "data": {
      "text/plain": [
       "pandas.core.frame.DataFrame"
      ]
     },
     "execution_count": 125,
     "metadata": {},
     "output_type": "execute_result"
    }
   ],
   "source": [
    "type(marks)"
   ]
  },
  {
   "cell_type": "code",
   "execution_count": 126,
   "metadata": {},
   "outputs": [
    {
     "data": {
      "text/plain": [
       "30"
      ]
     },
     "execution_count": 126,
     "metadata": {},
     "output_type": "execute_result"
    }
   ],
   "source": [
    "marks.size"
   ]
  },
  {
   "cell_type": "code",
   "execution_count": 127,
   "metadata": {},
   "outputs": [
    {
     "data": {
      "text/plain": [
       "(5, 6)"
      ]
     },
     "execution_count": 127,
     "metadata": {},
     "output_type": "execute_result"
    }
   ],
   "source": [
    "marks.shape"
   ]
  },
  {
   "cell_type": "code",
   "execution_count": 128,
   "metadata": {},
   "outputs": [
    {
     "data": {
      "text/plain": [
       "2"
      ]
     },
     "execution_count": 128,
     "metadata": {},
     "output_type": "execute_result"
    }
   ],
   "source": [
    "marks.ndim"
   ]
  },
  {
   "cell_type": "code",
   "execution_count": 129,
   "metadata": {},
   "outputs": [
    {
     "data": {
      "text/plain": [
       "dtype('int32')"
      ]
     },
     "execution_count": 129,
     "metadata": {},
     "output_type": "execute_result"
    }
   ],
   "source": [
    "marks['Chemistry'].dtype"
   ]
  },
  {
   "cell_type": "code",
   "execution_count": 130,
   "metadata": {},
   "outputs": [
    {
     "name": "stdout",
     "output_type": "stream",
     "text": [
      "<class 'pandas.core.frame.DataFrame'>\n",
      "Index: 5 entries, Rahul to Nikhil\n",
      "Data columns (total 6 columns):\n",
      " #   Column            Non-Null Count  Dtype\n",
      "---  ------            --------------  -----\n",
      " 0   Physics           5 non-null      int32\n",
      " 1   Chemistry         5 non-null      int32\n",
      " 2   mathematics       5 non-null      int32\n",
      " 3   Computer Science  5 non-null      int32\n",
      " 4   English           5 non-null      int32\n",
      " 5   Kannada           5 non-null      int32\n",
      "dtypes: int32(6)\n",
      "memory usage: 160.0+ bytes\n"
     ]
    }
   ],
   "source": [
    "marks.info()"
   ]
  },
  {
   "cell_type": "code",
   "execution_count": 131,
   "metadata": {},
   "outputs": [],
   "source": [
    "marks['Total Marks'] = marks['Physics'] + marks['Chemistry'] + marks['mathematics'] + marks['Computer Science'] + marks['English'] + marks['Kannada']"
   ]
  },
  {
   "cell_type": "code",
   "execution_count": 132,
   "metadata": {},
   "outputs": [
    {
     "data": {
      "text/html": [
       "<div>\n",
       "<style scoped>\n",
       "    .dataframe tbody tr th:only-of-type {\n",
       "        vertical-align: middle;\n",
       "    }\n",
       "\n",
       "    .dataframe tbody tr th {\n",
       "        vertical-align: top;\n",
       "    }\n",
       "\n",
       "    .dataframe thead th {\n",
       "        text-align: right;\n",
       "    }\n",
       "</style>\n",
       "<table border=\"1\" class=\"dataframe\">\n",
       "  <thead>\n",
       "    <tr style=\"text-align: right;\">\n",
       "      <th></th>\n",
       "      <th>Physics</th>\n",
       "      <th>Chemistry</th>\n",
       "      <th>mathematics</th>\n",
       "      <th>Computer Science</th>\n",
       "      <th>English</th>\n",
       "      <th>Kannada</th>\n",
       "      <th>Total Marks</th>\n",
       "    </tr>\n",
       "  </thead>\n",
       "  <tbody>\n",
       "    <tr>\n",
       "      <th>Rahul</th>\n",
       "      <td>34</td>\n",
       "      <td>29</td>\n",
       "      <td>40</td>\n",
       "      <td>25</td>\n",
       "      <td>42</td>\n",
       "      <td>41</td>\n",
       "      <td>211</td>\n",
       "    </tr>\n",
       "    <tr>\n",
       "      <th>Sagar</th>\n",
       "      <td>42</td>\n",
       "      <td>33</td>\n",
       "      <td>34</td>\n",
       "      <td>25</td>\n",
       "      <td>35</td>\n",
       "      <td>33</td>\n",
       "      <td>202</td>\n",
       "    </tr>\n",
       "    <tr>\n",
       "      <th>Suneel</th>\n",
       "      <td>47</td>\n",
       "      <td>29</td>\n",
       "      <td>44</td>\n",
       "      <td>41</td>\n",
       "      <td>29</td>\n",
       "      <td>40</td>\n",
       "      <td>230</td>\n",
       "    </tr>\n",
       "    <tr>\n",
       "      <th>Rohit</th>\n",
       "      <td>36</td>\n",
       "      <td>47</td>\n",
       "      <td>49</td>\n",
       "      <td>36</td>\n",
       "      <td>26</td>\n",
       "      <td>33</td>\n",
       "      <td>227</td>\n",
       "    </tr>\n",
       "    <tr>\n",
       "      <th>Nikhil</th>\n",
       "      <td>29</td>\n",
       "      <td>39</td>\n",
       "      <td>42</td>\n",
       "      <td>44</td>\n",
       "      <td>47</td>\n",
       "      <td>38</td>\n",
       "      <td>239</td>\n",
       "    </tr>\n",
       "  </tbody>\n",
       "</table>\n",
       "</div>"
      ],
      "text/plain": [
       "        Physics  Chemistry  mathematics  Computer Science  English  Kannada  \\\n",
       "Rahul        34         29           40                25       42       41   \n",
       "Sagar        42         33           34                25       35       33   \n",
       "Suneel       47         29           44                41       29       40   \n",
       "Rohit        36         47           49                36       26       33   \n",
       "Nikhil       29         39           42                44       47       38   \n",
       "\n",
       "        Total Marks  \n",
       "Rahul           211  \n",
       "Sagar           202  \n",
       "Suneel          230  \n",
       "Rohit           227  \n",
       "Nikhil          239  "
      ]
     },
     "execution_count": 132,
     "metadata": {},
     "output_type": "execute_result"
    }
   ],
   "source": [
    "marks"
   ]
  },
  {
   "cell_type": "code",
   "execution_count": 133,
   "metadata": {},
   "outputs": [],
   "source": [
    "marks['percentage'] = round((marks['Total Marks']/3),2)"
   ]
  },
  {
   "cell_type": "code",
   "execution_count": 134,
   "metadata": {},
   "outputs": [
    {
     "data": {
      "text/html": [
       "<div>\n",
       "<style scoped>\n",
       "    .dataframe tbody tr th:only-of-type {\n",
       "        vertical-align: middle;\n",
       "    }\n",
       "\n",
       "    .dataframe tbody tr th {\n",
       "        vertical-align: top;\n",
       "    }\n",
       "\n",
       "    .dataframe thead th {\n",
       "        text-align: right;\n",
       "    }\n",
       "</style>\n",
       "<table border=\"1\" class=\"dataframe\">\n",
       "  <thead>\n",
       "    <tr style=\"text-align: right;\">\n",
       "      <th></th>\n",
       "      <th>Physics</th>\n",
       "      <th>Chemistry</th>\n",
       "      <th>mathematics</th>\n",
       "      <th>Computer Science</th>\n",
       "      <th>English</th>\n",
       "      <th>Kannada</th>\n",
       "      <th>Total Marks</th>\n",
       "      <th>percentage</th>\n",
       "    </tr>\n",
       "  </thead>\n",
       "  <tbody>\n",
       "    <tr>\n",
       "      <th>Rahul</th>\n",
       "      <td>34</td>\n",
       "      <td>29</td>\n",
       "      <td>40</td>\n",
       "      <td>25</td>\n",
       "      <td>42</td>\n",
       "      <td>41</td>\n",
       "      <td>211</td>\n",
       "      <td>70.33</td>\n",
       "    </tr>\n",
       "    <tr>\n",
       "      <th>Sagar</th>\n",
       "      <td>42</td>\n",
       "      <td>33</td>\n",
       "      <td>34</td>\n",
       "      <td>25</td>\n",
       "      <td>35</td>\n",
       "      <td>33</td>\n",
       "      <td>202</td>\n",
       "      <td>67.33</td>\n",
       "    </tr>\n",
       "    <tr>\n",
       "      <th>Suneel</th>\n",
       "      <td>47</td>\n",
       "      <td>29</td>\n",
       "      <td>44</td>\n",
       "      <td>41</td>\n",
       "      <td>29</td>\n",
       "      <td>40</td>\n",
       "      <td>230</td>\n",
       "      <td>76.67</td>\n",
       "    </tr>\n",
       "    <tr>\n",
       "      <th>Rohit</th>\n",
       "      <td>36</td>\n",
       "      <td>47</td>\n",
       "      <td>49</td>\n",
       "      <td>36</td>\n",
       "      <td>26</td>\n",
       "      <td>33</td>\n",
       "      <td>227</td>\n",
       "      <td>75.67</td>\n",
       "    </tr>\n",
       "    <tr>\n",
       "      <th>Nikhil</th>\n",
       "      <td>29</td>\n",
       "      <td>39</td>\n",
       "      <td>42</td>\n",
       "      <td>44</td>\n",
       "      <td>47</td>\n",
       "      <td>38</td>\n",
       "      <td>239</td>\n",
       "      <td>79.67</td>\n",
       "    </tr>\n",
       "  </tbody>\n",
       "</table>\n",
       "</div>"
      ],
      "text/plain": [
       "        Physics  Chemistry  mathematics  Computer Science  English  Kannada  \\\n",
       "Rahul        34         29           40                25       42       41   \n",
       "Sagar        42         33           34                25       35       33   \n",
       "Suneel       47         29           44                41       29       40   \n",
       "Rohit        36         47           49                36       26       33   \n",
       "Nikhil       29         39           42                44       47       38   \n",
       "\n",
       "        Total Marks  percentage  \n",
       "Rahul           211       70.33  \n",
       "Sagar           202       67.33  \n",
       "Suneel          230       76.67  \n",
       "Rohit           227       75.67  \n",
       "Nikhil          239       79.67  "
      ]
     },
     "execution_count": 134,
     "metadata": {},
     "output_type": "execute_result"
    }
   ],
   "source": [
    "marks"
   ]
  },
  {
   "cell_type": "code",
   "execution_count": 135,
   "metadata": {},
   "outputs": [],
   "source": [
    "marks['Total'] = marks.sum(axis=1)"
   ]
  },
  {
   "cell_type": "code",
   "execution_count": 136,
   "metadata": {},
   "outputs": [
    {
     "data": {
      "text/html": [
       "<div>\n",
       "<style scoped>\n",
       "    .dataframe tbody tr th:only-of-type {\n",
       "        vertical-align: middle;\n",
       "    }\n",
       "\n",
       "    .dataframe tbody tr th {\n",
       "        vertical-align: top;\n",
       "    }\n",
       "\n",
       "    .dataframe thead th {\n",
       "        text-align: right;\n",
       "    }\n",
       "</style>\n",
       "<table border=\"1\" class=\"dataframe\">\n",
       "  <thead>\n",
       "    <tr style=\"text-align: right;\">\n",
       "      <th></th>\n",
       "      <th>Physics</th>\n",
       "      <th>Chemistry</th>\n",
       "      <th>mathematics</th>\n",
       "      <th>Computer Science</th>\n",
       "      <th>English</th>\n",
       "      <th>Kannada</th>\n",
       "      <th>Total Marks</th>\n",
       "      <th>percentage</th>\n",
       "      <th>Total</th>\n",
       "    </tr>\n",
       "  </thead>\n",
       "  <tbody>\n",
       "    <tr>\n",
       "      <th>Rahul</th>\n",
       "      <td>34</td>\n",
       "      <td>29</td>\n",
       "      <td>40</td>\n",
       "      <td>25</td>\n",
       "      <td>42</td>\n",
       "      <td>41</td>\n",
       "      <td>211</td>\n",
       "      <td>70.33</td>\n",
       "      <td>492.33</td>\n",
       "    </tr>\n",
       "    <tr>\n",
       "      <th>Sagar</th>\n",
       "      <td>42</td>\n",
       "      <td>33</td>\n",
       "      <td>34</td>\n",
       "      <td>25</td>\n",
       "      <td>35</td>\n",
       "      <td>33</td>\n",
       "      <td>202</td>\n",
       "      <td>67.33</td>\n",
       "      <td>471.33</td>\n",
       "    </tr>\n",
       "    <tr>\n",
       "      <th>Suneel</th>\n",
       "      <td>47</td>\n",
       "      <td>29</td>\n",
       "      <td>44</td>\n",
       "      <td>41</td>\n",
       "      <td>29</td>\n",
       "      <td>40</td>\n",
       "      <td>230</td>\n",
       "      <td>76.67</td>\n",
       "      <td>536.67</td>\n",
       "    </tr>\n",
       "    <tr>\n",
       "      <th>Rohit</th>\n",
       "      <td>36</td>\n",
       "      <td>47</td>\n",
       "      <td>49</td>\n",
       "      <td>36</td>\n",
       "      <td>26</td>\n",
       "      <td>33</td>\n",
       "      <td>227</td>\n",
       "      <td>75.67</td>\n",
       "      <td>529.67</td>\n",
       "    </tr>\n",
       "    <tr>\n",
       "      <th>Nikhil</th>\n",
       "      <td>29</td>\n",
       "      <td>39</td>\n",
       "      <td>42</td>\n",
       "      <td>44</td>\n",
       "      <td>47</td>\n",
       "      <td>38</td>\n",
       "      <td>239</td>\n",
       "      <td>79.67</td>\n",
       "      <td>557.67</td>\n",
       "    </tr>\n",
       "  </tbody>\n",
       "</table>\n",
       "</div>"
      ],
      "text/plain": [
       "        Physics  Chemistry  mathematics  Computer Science  English  Kannada  \\\n",
       "Rahul        34         29           40                25       42       41   \n",
       "Sagar        42         33           34                25       35       33   \n",
       "Suneel       47         29           44                41       29       40   \n",
       "Rohit        36         47           49                36       26       33   \n",
       "Nikhil       29         39           42                44       47       38   \n",
       "\n",
       "        Total Marks  percentage   Total  \n",
       "Rahul           211       70.33  492.33  \n",
       "Sagar           202       67.33  471.33  \n",
       "Suneel          230       76.67  536.67  \n",
       "Rohit           227       75.67  529.67  \n",
       "Nikhil          239       79.67  557.67  "
      ]
     },
     "execution_count": 136,
     "metadata": {},
     "output_type": "execute_result"
    }
   ],
   "source": [
    "marks"
   ]
  },
  {
   "cell_type": "code",
   "execution_count": 137,
   "metadata": {},
   "outputs": [],
   "source": [
    "marks.drop(columns=['Total'],inplace=True)"
   ]
  },
  {
   "cell_type": "code",
   "execution_count": 138,
   "metadata": {},
   "outputs": [
    {
     "data": {
      "text/html": [
       "<div>\n",
       "<style scoped>\n",
       "    .dataframe tbody tr th:only-of-type {\n",
       "        vertical-align: middle;\n",
       "    }\n",
       "\n",
       "    .dataframe tbody tr th {\n",
       "        vertical-align: top;\n",
       "    }\n",
       "\n",
       "    .dataframe thead th {\n",
       "        text-align: right;\n",
       "    }\n",
       "</style>\n",
       "<table border=\"1\" class=\"dataframe\">\n",
       "  <thead>\n",
       "    <tr style=\"text-align: right;\">\n",
       "      <th></th>\n",
       "      <th>Physics</th>\n",
       "      <th>Chemistry</th>\n",
       "      <th>mathematics</th>\n",
       "      <th>Computer Science</th>\n",
       "      <th>English</th>\n",
       "      <th>Kannada</th>\n",
       "      <th>Total Marks</th>\n",
       "      <th>percentage</th>\n",
       "    </tr>\n",
       "  </thead>\n",
       "  <tbody>\n",
       "    <tr>\n",
       "      <th>Rahul</th>\n",
       "      <td>34</td>\n",
       "      <td>29</td>\n",
       "      <td>40</td>\n",
       "      <td>25</td>\n",
       "      <td>42</td>\n",
       "      <td>41</td>\n",
       "      <td>211</td>\n",
       "      <td>70.33</td>\n",
       "    </tr>\n",
       "    <tr>\n",
       "      <th>Sagar</th>\n",
       "      <td>42</td>\n",
       "      <td>33</td>\n",
       "      <td>34</td>\n",
       "      <td>25</td>\n",
       "      <td>35</td>\n",
       "      <td>33</td>\n",
       "      <td>202</td>\n",
       "      <td>67.33</td>\n",
       "    </tr>\n",
       "    <tr>\n",
       "      <th>Suneel</th>\n",
       "      <td>47</td>\n",
       "      <td>29</td>\n",
       "      <td>44</td>\n",
       "      <td>41</td>\n",
       "      <td>29</td>\n",
       "      <td>40</td>\n",
       "      <td>230</td>\n",
       "      <td>76.67</td>\n",
       "    </tr>\n",
       "    <tr>\n",
       "      <th>Rohit</th>\n",
       "      <td>36</td>\n",
       "      <td>47</td>\n",
       "      <td>49</td>\n",
       "      <td>36</td>\n",
       "      <td>26</td>\n",
       "      <td>33</td>\n",
       "      <td>227</td>\n",
       "      <td>75.67</td>\n",
       "    </tr>\n",
       "    <tr>\n",
       "      <th>Nikhil</th>\n",
       "      <td>29</td>\n",
       "      <td>39</td>\n",
       "      <td>42</td>\n",
       "      <td>44</td>\n",
       "      <td>47</td>\n",
       "      <td>38</td>\n",
       "      <td>239</td>\n",
       "      <td>79.67</td>\n",
       "    </tr>\n",
       "  </tbody>\n",
       "</table>\n",
       "</div>"
      ],
      "text/plain": [
       "        Physics  Chemistry  mathematics  Computer Science  English  Kannada  \\\n",
       "Rahul        34         29           40                25       42       41   \n",
       "Sagar        42         33           34                25       35       33   \n",
       "Suneel       47         29           44                41       29       40   \n",
       "Rohit        36         47           49                36       26       33   \n",
       "Nikhil       29         39           42                44       47       38   \n",
       "\n",
       "        Total Marks  percentage  \n",
       "Rahul           211       70.33  \n",
       "Sagar           202       67.33  \n",
       "Suneel          230       76.67  \n",
       "Rohit           227       75.67  \n",
       "Nikhil          239       79.67  "
      ]
     },
     "execution_count": 138,
     "metadata": {},
     "output_type": "execute_result"
    }
   ],
   "source": [
    "marks"
   ]
  },
  {
   "cell_type": "code",
   "execution_count": 139,
   "metadata": {},
   "outputs": [],
   "source": [
    "new_student = pd.DataFrame({\n",
    "    'Physics': 45,\n",
    "    'Chemistry': 34,\n",
    "    'mathematics': 49,\n",
    "    'Computer Science': 44,\n",
    "    'English': 48,\n",
    "    'Kannada': 50\n",
    "},index=['Anil'])"
   ]
  },
  {
   "cell_type": "code",
   "execution_count": 140,
   "metadata": {},
   "outputs": [],
   "source": [
    "marks = pd.concat([marks,new_student])"
   ]
  },
  {
   "cell_type": "code",
   "execution_count": 141,
   "metadata": {},
   "outputs": [
    {
     "data": {
      "text/html": [
       "<div>\n",
       "<style scoped>\n",
       "    .dataframe tbody tr th:only-of-type {\n",
       "        vertical-align: middle;\n",
       "    }\n",
       "\n",
       "    .dataframe tbody tr th {\n",
       "        vertical-align: top;\n",
       "    }\n",
       "\n",
       "    .dataframe thead th {\n",
       "        text-align: right;\n",
       "    }\n",
       "</style>\n",
       "<table border=\"1\" class=\"dataframe\">\n",
       "  <thead>\n",
       "    <tr style=\"text-align: right;\">\n",
       "      <th></th>\n",
       "      <th>Physics</th>\n",
       "      <th>Chemistry</th>\n",
       "      <th>mathematics</th>\n",
       "      <th>Computer Science</th>\n",
       "      <th>English</th>\n",
       "      <th>Kannada</th>\n",
       "      <th>Total Marks</th>\n",
       "      <th>percentage</th>\n",
       "    </tr>\n",
       "  </thead>\n",
       "  <tbody>\n",
       "    <tr>\n",
       "      <th>Rahul</th>\n",
       "      <td>34</td>\n",
       "      <td>29</td>\n",
       "      <td>40</td>\n",
       "      <td>25</td>\n",
       "      <td>42</td>\n",
       "      <td>41</td>\n",
       "      <td>211.0</td>\n",
       "      <td>70.33</td>\n",
       "    </tr>\n",
       "    <tr>\n",
       "      <th>Sagar</th>\n",
       "      <td>42</td>\n",
       "      <td>33</td>\n",
       "      <td>34</td>\n",
       "      <td>25</td>\n",
       "      <td>35</td>\n",
       "      <td>33</td>\n",
       "      <td>202.0</td>\n",
       "      <td>67.33</td>\n",
       "    </tr>\n",
       "    <tr>\n",
       "      <th>Suneel</th>\n",
       "      <td>47</td>\n",
       "      <td>29</td>\n",
       "      <td>44</td>\n",
       "      <td>41</td>\n",
       "      <td>29</td>\n",
       "      <td>40</td>\n",
       "      <td>230.0</td>\n",
       "      <td>76.67</td>\n",
       "    </tr>\n",
       "    <tr>\n",
       "      <th>Rohit</th>\n",
       "      <td>36</td>\n",
       "      <td>47</td>\n",
       "      <td>49</td>\n",
       "      <td>36</td>\n",
       "      <td>26</td>\n",
       "      <td>33</td>\n",
       "      <td>227.0</td>\n",
       "      <td>75.67</td>\n",
       "    </tr>\n",
       "    <tr>\n",
       "      <th>Nikhil</th>\n",
       "      <td>29</td>\n",
       "      <td>39</td>\n",
       "      <td>42</td>\n",
       "      <td>44</td>\n",
       "      <td>47</td>\n",
       "      <td>38</td>\n",
       "      <td>239.0</td>\n",
       "      <td>79.67</td>\n",
       "    </tr>\n",
       "    <tr>\n",
       "      <th>Anil</th>\n",
       "      <td>45</td>\n",
       "      <td>34</td>\n",
       "      <td>49</td>\n",
       "      <td>44</td>\n",
       "      <td>48</td>\n",
       "      <td>50</td>\n",
       "      <td>NaN</td>\n",
       "      <td>NaN</td>\n",
       "    </tr>\n",
       "  </tbody>\n",
       "</table>\n",
       "</div>"
      ],
      "text/plain": [
       "        Physics  Chemistry  mathematics  Computer Science  English  Kannada  \\\n",
       "Rahul        34         29           40                25       42       41   \n",
       "Sagar        42         33           34                25       35       33   \n",
       "Suneel       47         29           44                41       29       40   \n",
       "Rohit        36         47           49                36       26       33   \n",
       "Nikhil       29         39           42                44       47       38   \n",
       "Anil         45         34           49                44       48       50   \n",
       "\n",
       "        Total Marks  percentage  \n",
       "Rahul         211.0       70.33  \n",
       "Sagar         202.0       67.33  \n",
       "Suneel        230.0       76.67  \n",
       "Rohit         227.0       75.67  \n",
       "Nikhil        239.0       79.67  \n",
       "Anil            NaN         NaN  "
      ]
     },
     "execution_count": 141,
     "metadata": {},
     "output_type": "execute_result"
    }
   ],
   "source": [
    "marks"
   ]
  }
 ],
 "metadata": {
  "kernelspec": {
   "display_name": "base",
   "language": "python",
   "name": "python3"
  },
  "language_info": {
   "codemirror_mode": {
    "name": "ipython",
    "version": 3
   },
   "file_extension": ".py",
   "mimetype": "text/x-python",
   "name": "python",
   "nbconvert_exporter": "python",
   "pygments_lexer": "ipython3",
   "version": "3.12.4"
  }
 },
 "nbformat": 4,
 "nbformat_minor": 2
}
