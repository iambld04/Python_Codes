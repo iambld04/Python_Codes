{
 "cells": [
  {
   "cell_type": "code",
   "execution_count": 112,
   "metadata": {},
   "outputs": [],
   "source": [
    "import pandas as pd\n",
    "import matplotlib.pyplot as plt\n",
    "import numpy as np\n",
    "import seaborn as sns"
   ]
  },
  {
   "cell_type": "code",
   "execution_count": 113,
   "metadata": {},
   "outputs": [],
   "source": [
    "df_car_data = pd.read_csv(r\"D:\\Python\\Quickr_car_\\Quikr_car.csv\")"
   ]
  },
  {
   "cell_type": "code",
   "execution_count": 114,
   "metadata": {},
   "outputs": [
    {
     "data": {
      "text/html": [
       "<div>\n",
       "<style scoped>\n",
       "    .dataframe tbody tr th:only-of-type {\n",
       "        vertical-align: middle;\n",
       "    }\n",
       "\n",
       "    .dataframe tbody tr th {\n",
       "        vertical-align: top;\n",
       "    }\n",
       "\n",
       "    .dataframe thead th {\n",
       "        text-align: right;\n",
       "    }\n",
       "</style>\n",
       "<table border=\"1\" class=\"dataframe\">\n",
       "  <thead>\n",
       "    <tr style=\"text-align: right;\">\n",
       "      <th></th>\n",
       "      <th>Unnamed: 0</th>\n",
       "      <th>Name</th>\n",
       "      <th>Label</th>\n",
       "      <th>Location</th>\n",
       "      <th>Price</th>\n",
       "      <th>Kms_driven</th>\n",
       "      <th>Fuel_type</th>\n",
       "      <th>Owner</th>\n",
       "      <th>Year</th>\n",
       "      <th>Company</th>\n",
       "    </tr>\n",
       "  </thead>\n",
       "  <tbody>\n",
       "    <tr>\n",
       "      <th>0</th>\n",
       "      <td>0</td>\n",
       "      <td>Ford Figo Duratec Petrol EXI 1.2 - 2015</td>\n",
       "      <td>PLATINUM</td>\n",
       "      <td>Bangalore</td>\n",
       "      <td>₹3,80,000</td>\n",
       "      <td>35,056 kms</td>\n",
       "      <td>Petrol</td>\n",
       "      <td>NaN</td>\n",
       "      <td>2015</td>\n",
       "      <td>Ford</td>\n",
       "    </tr>\n",
       "    <tr>\n",
       "      <th>1</th>\n",
       "      <td>1</td>\n",
       "      <td>Maruti Suzuki Wagon R VXI BS IV - 2016</td>\n",
       "      <td>PLATINUM</td>\n",
       "      <td>Bangalore</td>\n",
       "      <td>₹4,65,000</td>\n",
       "      <td>44,000 kms</td>\n",
       "      <td>Petrol</td>\n",
       "      <td>NaN</td>\n",
       "      <td>2016</td>\n",
       "      <td>Maruti</td>\n",
       "    </tr>\n",
       "    <tr>\n",
       "      <th>2</th>\n",
       "      <td>2</td>\n",
       "      <td>Hyundai Creta 1.6 SX PLUS AUTO PETROL - 2018</td>\n",
       "      <td>PLATINUM</td>\n",
       "      <td>Bangalore</td>\n",
       "      <td>₹13,50,000</td>\n",
       "      <td>42,917 kms</td>\n",
       "      <td>Petrol</td>\n",
       "      <td>NaN</td>\n",
       "      <td>2018</td>\n",
       "      <td>Hyundai</td>\n",
       "    </tr>\n",
       "    <tr>\n",
       "      <th>3</th>\n",
       "      <td>3</td>\n",
       "      <td>Hyundai Venue - 2019</td>\n",
       "      <td>PLATINUM</td>\n",
       "      <td>Chennai</td>\n",
       "      <td>₹10,19,699</td>\n",
       "      <td>16,112 kms</td>\n",
       "      <td>Petrol</td>\n",
       "      <td>2nd Owner</td>\n",
       "      <td>2019</td>\n",
       "      <td>Hyundai</td>\n",
       "    </tr>\n",
       "    <tr>\n",
       "      <th>4</th>\n",
       "      <td>4</td>\n",
       "      <td>Honda Jazz - 2017</td>\n",
       "      <td>PLATINUM</td>\n",
       "      <td>Pune</td>\n",
       "      <td>₹7,13,499</td>\n",
       "      <td>30,988 kms</td>\n",
       "      <td>Petrol</td>\n",
       "      <td>2nd Owner</td>\n",
       "      <td>2017</td>\n",
       "      <td>Honda</td>\n",
       "    </tr>\n",
       "    <tr>\n",
       "      <th>...</th>\n",
       "      <td>...</td>\n",
       "      <td>...</td>\n",
       "      <td>...</td>\n",
       "      <td>...</td>\n",
       "      <td>...</td>\n",
       "      <td>...</td>\n",
       "      <td>...</td>\n",
       "      <td>...</td>\n",
       "      <td>...</td>\n",
       "      <td>...</td>\n",
       "    </tr>\n",
       "    <tr>\n",
       "      <th>1027</th>\n",
       "      <td>1027</td>\n",
       "      <td>Hyundai i10 Magna 1.2 - 2014</td>\n",
       "      <td>GOLD</td>\n",
       "      <td>Bangalore</td>\n",
       "      <td>₹2,29,000</td>\n",
       "      <td>65,000 kms</td>\n",
       "      <td>Petrol</td>\n",
       "      <td>1st Owner</td>\n",
       "      <td>2014</td>\n",
       "      <td>Hyundai</td>\n",
       "    </tr>\n",
       "    <tr>\n",
       "      <th>1028</th>\n",
       "      <td>1028</td>\n",
       "      <td>Maruti Suzuki Alto K10 LXi CNG - 2014</td>\n",
       "      <td>GOLD</td>\n",
       "      <td>Bangalore</td>\n",
       "      <td>₹2,75,000</td>\n",
       "      <td>60,000 kms</td>\n",
       "      <td>Petrol</td>\n",
       "      <td>NaN</td>\n",
       "      <td>2014</td>\n",
       "      <td>Maruti</td>\n",
       "    </tr>\n",
       "    <tr>\n",
       "      <th>1029</th>\n",
       "      <td>1029</td>\n",
       "      <td>Jeep Compass Limited 2.0 Diesel - 2017</td>\n",
       "      <td>GOLD</td>\n",
       "      <td>Mahasamund</td>\n",
       "      <td>₹17,50,000</td>\n",
       "      <td>31,000 kms</td>\n",
       "      <td>Diesel</td>\n",
       "      <td>1st Owner</td>\n",
       "      <td>2017</td>\n",
       "      <td>Jeep</td>\n",
       "    </tr>\n",
       "    <tr>\n",
       "      <th>1030</th>\n",
       "      <td>1030</td>\n",
       "      <td>Jeep Compass Limited 2.0 Diesel - 2017</td>\n",
       "      <td>GOLD</td>\n",
       "      <td>Bilaspur</td>\n",
       "      <td>₹17,50,000</td>\n",
       "      <td>31,000 kms</td>\n",
       "      <td>Diesel</td>\n",
       "      <td>1st Owner</td>\n",
       "      <td>2017</td>\n",
       "      <td>Jeep</td>\n",
       "    </tr>\n",
       "    <tr>\n",
       "      <th>1031</th>\n",
       "      <td>1031</td>\n",
       "      <td>Jeep Compass Limited 2.0 Diesel - 2017</td>\n",
       "      <td>GOLD</td>\n",
       "      <td>Jagdalpur</td>\n",
       "      <td>₹17,50,000</td>\n",
       "      <td>31,000 kms</td>\n",
       "      <td>Diesel</td>\n",
       "      <td>1st Owner</td>\n",
       "      <td>2017</td>\n",
       "      <td>Jeep</td>\n",
       "    </tr>\n",
       "  </tbody>\n",
       "</table>\n",
       "<p>1032 rows × 10 columns</p>\n",
       "</div>"
      ],
      "text/plain": [
       "      Unnamed: 0                                          Name     Label  \\\n",
       "0              0       Ford Figo Duratec Petrol EXI 1.2 - 2015  PLATINUM   \n",
       "1              1        Maruti Suzuki Wagon R VXI BS IV - 2016  PLATINUM   \n",
       "2              2  Hyundai Creta 1.6 SX PLUS AUTO PETROL - 2018  PLATINUM   \n",
       "3              3                          Hyundai Venue - 2019  PLATINUM   \n",
       "4              4                             Honda Jazz - 2017  PLATINUM   \n",
       "...          ...                                           ...       ...   \n",
       "1027        1027                  Hyundai i10 Magna 1.2 - 2014      GOLD   \n",
       "1028        1028         Maruti Suzuki Alto K10 LXi CNG - 2014      GOLD   \n",
       "1029        1029        Jeep Compass Limited 2.0 Diesel - 2017      GOLD   \n",
       "1030        1030        Jeep Compass Limited 2.0 Diesel - 2017      GOLD   \n",
       "1031        1031        Jeep Compass Limited 2.0 Diesel - 2017      GOLD   \n",
       "\n",
       "        Location       Price   Kms_driven Fuel_type       Owner  Year  Company  \n",
       "0      Bangalore   ₹3,80,000  35,056 kms     Petrol         NaN  2015     Ford  \n",
       "1      Bangalore   ₹4,65,000  44,000 kms     Petrol         NaN  2016   Maruti  \n",
       "2      Bangalore  ₹13,50,000  42,917 kms     Petrol         NaN  2018  Hyundai  \n",
       "3        Chennai  ₹10,19,699  16,112 kms    Petrol    2nd Owner  2019  Hyundai  \n",
       "4           Pune   ₹7,13,499  30,988 kms    Petrol    2nd Owner  2017    Honda  \n",
       "...          ...         ...          ...       ...         ...   ...      ...  \n",
       "1027   Bangalore   ₹2,29,000  65,000 kms    Petrol    1st Owner  2014  Hyundai  \n",
       "1028   Bangalore   ₹2,75,000  60,000 kms     Petrol         NaN  2014   Maruti  \n",
       "1029  Mahasamund  ₹17,50,000  31,000 kms    Diesel    1st Owner  2017     Jeep  \n",
       "1030    Bilaspur  ₹17,50,000  31,000 kms    Diesel    1st Owner  2017     Jeep  \n",
       "1031   Jagdalpur  ₹17,50,000  31,000 kms    Diesel    1st Owner  2017     Jeep  \n",
       "\n",
       "[1032 rows x 10 columns]"
      ]
     },
     "execution_count": 114,
     "metadata": {},
     "output_type": "execute_result"
    }
   ],
   "source": [
    "df_car_data"
   ]
  },
  {
   "cell_type": "code",
   "execution_count": 115,
   "metadata": {},
   "outputs": [],
   "source": [
    "df_car_data = df_car_data.iloc[:,1:10]"
   ]
  },
  {
   "cell_type": "code",
   "execution_count": 116,
   "metadata": {},
   "outputs": [
    {
     "data": {
      "text/html": [
       "<div>\n",
       "<style scoped>\n",
       "    .dataframe tbody tr th:only-of-type {\n",
       "        vertical-align: middle;\n",
       "    }\n",
       "\n",
       "    .dataframe tbody tr th {\n",
       "        vertical-align: top;\n",
       "    }\n",
       "\n",
       "    .dataframe thead th {\n",
       "        text-align: right;\n",
       "    }\n",
       "</style>\n",
       "<table border=\"1\" class=\"dataframe\">\n",
       "  <thead>\n",
       "    <tr style=\"text-align: right;\">\n",
       "      <th></th>\n",
       "      <th>Name</th>\n",
       "      <th>Label</th>\n",
       "      <th>Location</th>\n",
       "      <th>Price</th>\n",
       "      <th>Kms_driven</th>\n",
       "      <th>Fuel_type</th>\n",
       "      <th>Owner</th>\n",
       "      <th>Year</th>\n",
       "      <th>Company</th>\n",
       "    </tr>\n",
       "  </thead>\n",
       "  <tbody>\n",
       "    <tr>\n",
       "      <th>0</th>\n",
       "      <td>Ford Figo Duratec Petrol EXI 1.2 - 2015</td>\n",
       "      <td>PLATINUM</td>\n",
       "      <td>Bangalore</td>\n",
       "      <td>₹3,80,000</td>\n",
       "      <td>35,056 kms</td>\n",
       "      <td>Petrol</td>\n",
       "      <td>NaN</td>\n",
       "      <td>2015</td>\n",
       "      <td>Ford</td>\n",
       "    </tr>\n",
       "    <tr>\n",
       "      <th>1</th>\n",
       "      <td>Maruti Suzuki Wagon R VXI BS IV - 2016</td>\n",
       "      <td>PLATINUM</td>\n",
       "      <td>Bangalore</td>\n",
       "      <td>₹4,65,000</td>\n",
       "      <td>44,000 kms</td>\n",
       "      <td>Petrol</td>\n",
       "      <td>NaN</td>\n",
       "      <td>2016</td>\n",
       "      <td>Maruti</td>\n",
       "    </tr>\n",
       "    <tr>\n",
       "      <th>2</th>\n",
       "      <td>Hyundai Creta 1.6 SX PLUS AUTO PETROL - 2018</td>\n",
       "      <td>PLATINUM</td>\n",
       "      <td>Bangalore</td>\n",
       "      <td>₹13,50,000</td>\n",
       "      <td>42,917 kms</td>\n",
       "      <td>Petrol</td>\n",
       "      <td>NaN</td>\n",
       "      <td>2018</td>\n",
       "      <td>Hyundai</td>\n",
       "    </tr>\n",
       "    <tr>\n",
       "      <th>3</th>\n",
       "      <td>Hyundai Venue - 2019</td>\n",
       "      <td>PLATINUM</td>\n",
       "      <td>Chennai</td>\n",
       "      <td>₹10,19,699</td>\n",
       "      <td>16,112 kms</td>\n",
       "      <td>Petrol</td>\n",
       "      <td>2nd Owner</td>\n",
       "      <td>2019</td>\n",
       "      <td>Hyundai</td>\n",
       "    </tr>\n",
       "    <tr>\n",
       "      <th>4</th>\n",
       "      <td>Honda Jazz - 2017</td>\n",
       "      <td>PLATINUM</td>\n",
       "      <td>Pune</td>\n",
       "      <td>₹7,13,499</td>\n",
       "      <td>30,988 kms</td>\n",
       "      <td>Petrol</td>\n",
       "      <td>2nd Owner</td>\n",
       "      <td>2017</td>\n",
       "      <td>Honda</td>\n",
       "    </tr>\n",
       "    <tr>\n",
       "      <th>...</th>\n",
       "      <td>...</td>\n",
       "      <td>...</td>\n",
       "      <td>...</td>\n",
       "      <td>...</td>\n",
       "      <td>...</td>\n",
       "      <td>...</td>\n",
       "      <td>...</td>\n",
       "      <td>...</td>\n",
       "      <td>...</td>\n",
       "    </tr>\n",
       "    <tr>\n",
       "      <th>1027</th>\n",
       "      <td>Hyundai i10 Magna 1.2 - 2014</td>\n",
       "      <td>GOLD</td>\n",
       "      <td>Bangalore</td>\n",
       "      <td>₹2,29,000</td>\n",
       "      <td>65,000 kms</td>\n",
       "      <td>Petrol</td>\n",
       "      <td>1st Owner</td>\n",
       "      <td>2014</td>\n",
       "      <td>Hyundai</td>\n",
       "    </tr>\n",
       "    <tr>\n",
       "      <th>1028</th>\n",
       "      <td>Maruti Suzuki Alto K10 LXi CNG - 2014</td>\n",
       "      <td>GOLD</td>\n",
       "      <td>Bangalore</td>\n",
       "      <td>₹2,75,000</td>\n",
       "      <td>60,000 kms</td>\n",
       "      <td>Petrol</td>\n",
       "      <td>NaN</td>\n",
       "      <td>2014</td>\n",
       "      <td>Maruti</td>\n",
       "    </tr>\n",
       "    <tr>\n",
       "      <th>1029</th>\n",
       "      <td>Jeep Compass Limited 2.0 Diesel - 2017</td>\n",
       "      <td>GOLD</td>\n",
       "      <td>Mahasamund</td>\n",
       "      <td>₹17,50,000</td>\n",
       "      <td>31,000 kms</td>\n",
       "      <td>Diesel</td>\n",
       "      <td>1st Owner</td>\n",
       "      <td>2017</td>\n",
       "      <td>Jeep</td>\n",
       "    </tr>\n",
       "    <tr>\n",
       "      <th>1030</th>\n",
       "      <td>Jeep Compass Limited 2.0 Diesel - 2017</td>\n",
       "      <td>GOLD</td>\n",
       "      <td>Bilaspur</td>\n",
       "      <td>₹17,50,000</td>\n",
       "      <td>31,000 kms</td>\n",
       "      <td>Diesel</td>\n",
       "      <td>1st Owner</td>\n",
       "      <td>2017</td>\n",
       "      <td>Jeep</td>\n",
       "    </tr>\n",
       "    <tr>\n",
       "      <th>1031</th>\n",
       "      <td>Jeep Compass Limited 2.0 Diesel - 2017</td>\n",
       "      <td>GOLD</td>\n",
       "      <td>Jagdalpur</td>\n",
       "      <td>₹17,50,000</td>\n",
       "      <td>31,000 kms</td>\n",
       "      <td>Diesel</td>\n",
       "      <td>1st Owner</td>\n",
       "      <td>2017</td>\n",
       "      <td>Jeep</td>\n",
       "    </tr>\n",
       "  </tbody>\n",
       "</table>\n",
       "<p>1032 rows × 9 columns</p>\n",
       "</div>"
      ],
      "text/plain": [
       "                                              Name     Label    Location  \\\n",
       "0          Ford Figo Duratec Petrol EXI 1.2 - 2015  PLATINUM   Bangalore   \n",
       "1           Maruti Suzuki Wagon R VXI BS IV - 2016  PLATINUM   Bangalore   \n",
       "2     Hyundai Creta 1.6 SX PLUS AUTO PETROL - 2018  PLATINUM   Bangalore   \n",
       "3                             Hyundai Venue - 2019  PLATINUM     Chennai   \n",
       "4                                Honda Jazz - 2017  PLATINUM        Pune   \n",
       "...                                            ...       ...         ...   \n",
       "1027                  Hyundai i10 Magna 1.2 - 2014      GOLD   Bangalore   \n",
       "1028         Maruti Suzuki Alto K10 LXi CNG - 2014      GOLD   Bangalore   \n",
       "1029        Jeep Compass Limited 2.0 Diesel - 2017      GOLD  Mahasamund   \n",
       "1030        Jeep Compass Limited 2.0 Diesel - 2017      GOLD    Bilaspur   \n",
       "1031        Jeep Compass Limited 2.0 Diesel - 2017      GOLD   Jagdalpur   \n",
       "\n",
       "           Price   Kms_driven Fuel_type       Owner  Year  Company  \n",
       "0      ₹3,80,000  35,056 kms     Petrol         NaN  2015     Ford  \n",
       "1      ₹4,65,000  44,000 kms     Petrol         NaN  2016   Maruti  \n",
       "2     ₹13,50,000  42,917 kms     Petrol         NaN  2018  Hyundai  \n",
       "3     ₹10,19,699  16,112 kms    Petrol    2nd Owner  2019  Hyundai  \n",
       "4      ₹7,13,499  30,988 kms    Petrol    2nd Owner  2017    Honda  \n",
       "...          ...          ...       ...         ...   ...      ...  \n",
       "1027   ₹2,29,000  65,000 kms    Petrol    1st Owner  2014  Hyundai  \n",
       "1028   ₹2,75,000  60,000 kms     Petrol         NaN  2014   Maruti  \n",
       "1029  ₹17,50,000  31,000 kms    Diesel    1st Owner  2017     Jeep  \n",
       "1030  ₹17,50,000  31,000 kms    Diesel    1st Owner  2017     Jeep  \n",
       "1031  ₹17,50,000  31,000 kms    Diesel    1st Owner  2017     Jeep  \n",
       "\n",
       "[1032 rows x 9 columns]"
      ]
     },
     "execution_count": 116,
     "metadata": {},
     "output_type": "execute_result"
    }
   ],
   "source": [
    "df_car_data"
   ]
  },
  {
   "cell_type": "code",
   "execution_count": 117,
   "metadata": {},
   "outputs": [
    {
     "data": {
      "text/plain": [
       "11"
      ]
     },
     "execution_count": 117,
     "metadata": {},
     "output_type": "execute_result"
    }
   ],
   "source": [
    "df_car_data.duplicated().sum()"
   ]
  },
  {
   "cell_type": "code",
   "execution_count": 118,
   "metadata": {},
   "outputs": [],
   "source": [
    "df_car_data.drop_duplicates(ignore_index=True,inplace=True)"
   ]
  },
  {
   "cell_type": "code",
   "execution_count": 119,
   "metadata": {},
   "outputs": [
    {
     "data": {
      "text/html": [
       "<div>\n",
       "<style scoped>\n",
       "    .dataframe tbody tr th:only-of-type {\n",
       "        vertical-align: middle;\n",
       "    }\n",
       "\n",
       "    .dataframe tbody tr th {\n",
       "        vertical-align: top;\n",
       "    }\n",
       "\n",
       "    .dataframe thead th {\n",
       "        text-align: right;\n",
       "    }\n",
       "</style>\n",
       "<table border=\"1\" class=\"dataframe\">\n",
       "  <thead>\n",
       "    <tr style=\"text-align: right;\">\n",
       "      <th></th>\n",
       "      <th>Name</th>\n",
       "      <th>Label</th>\n",
       "      <th>Location</th>\n",
       "      <th>Price</th>\n",
       "      <th>Kms_driven</th>\n",
       "      <th>Fuel_type</th>\n",
       "      <th>Owner</th>\n",
       "      <th>Year</th>\n",
       "      <th>Company</th>\n",
       "    </tr>\n",
       "  </thead>\n",
       "  <tbody>\n",
       "    <tr>\n",
       "      <th>0</th>\n",
       "      <td>Ford Figo Duratec Petrol EXI 1.2 - 2015</td>\n",
       "      <td>PLATINUM</td>\n",
       "      <td>Bangalore</td>\n",
       "      <td>₹3,80,000</td>\n",
       "      <td>35,056 kms</td>\n",
       "      <td>Petrol</td>\n",
       "      <td>NaN</td>\n",
       "      <td>2015</td>\n",
       "      <td>Ford</td>\n",
       "    </tr>\n",
       "    <tr>\n",
       "      <th>1</th>\n",
       "      <td>Maruti Suzuki Wagon R VXI BS IV - 2016</td>\n",
       "      <td>PLATINUM</td>\n",
       "      <td>Bangalore</td>\n",
       "      <td>₹4,65,000</td>\n",
       "      <td>44,000 kms</td>\n",
       "      <td>Petrol</td>\n",
       "      <td>NaN</td>\n",
       "      <td>2016</td>\n",
       "      <td>Maruti</td>\n",
       "    </tr>\n",
       "    <tr>\n",
       "      <th>2</th>\n",
       "      <td>Hyundai Creta 1.6 SX PLUS AUTO PETROL - 2018</td>\n",
       "      <td>PLATINUM</td>\n",
       "      <td>Bangalore</td>\n",
       "      <td>₹13,50,000</td>\n",
       "      <td>42,917 kms</td>\n",
       "      <td>Petrol</td>\n",
       "      <td>NaN</td>\n",
       "      <td>2018</td>\n",
       "      <td>Hyundai</td>\n",
       "    </tr>\n",
       "    <tr>\n",
       "      <th>3</th>\n",
       "      <td>Hyundai Venue - 2019</td>\n",
       "      <td>PLATINUM</td>\n",
       "      <td>Chennai</td>\n",
       "      <td>₹10,19,699</td>\n",
       "      <td>16,112 kms</td>\n",
       "      <td>Petrol</td>\n",
       "      <td>2nd Owner</td>\n",
       "      <td>2019</td>\n",
       "      <td>Hyundai</td>\n",
       "    </tr>\n",
       "    <tr>\n",
       "      <th>4</th>\n",
       "      <td>Honda Jazz - 2017</td>\n",
       "      <td>PLATINUM</td>\n",
       "      <td>Pune</td>\n",
       "      <td>₹7,13,499</td>\n",
       "      <td>30,988 kms</td>\n",
       "      <td>Petrol</td>\n",
       "      <td>2nd Owner</td>\n",
       "      <td>2017</td>\n",
       "      <td>Honda</td>\n",
       "    </tr>\n",
       "    <tr>\n",
       "      <th>...</th>\n",
       "      <td>...</td>\n",
       "      <td>...</td>\n",
       "      <td>...</td>\n",
       "      <td>...</td>\n",
       "      <td>...</td>\n",
       "      <td>...</td>\n",
       "      <td>...</td>\n",
       "      <td>...</td>\n",
       "      <td>...</td>\n",
       "    </tr>\n",
       "    <tr>\n",
       "      <th>1016</th>\n",
       "      <td>Hyundai i10 Magna 1.2 - 2014</td>\n",
       "      <td>GOLD</td>\n",
       "      <td>Bangalore</td>\n",
       "      <td>₹2,29,000</td>\n",
       "      <td>65,000 kms</td>\n",
       "      <td>Petrol</td>\n",
       "      <td>1st Owner</td>\n",
       "      <td>2014</td>\n",
       "      <td>Hyundai</td>\n",
       "    </tr>\n",
       "    <tr>\n",
       "      <th>1017</th>\n",
       "      <td>Maruti Suzuki Alto K10 LXi CNG - 2014</td>\n",
       "      <td>GOLD</td>\n",
       "      <td>Bangalore</td>\n",
       "      <td>₹2,75,000</td>\n",
       "      <td>60,000 kms</td>\n",
       "      <td>Petrol</td>\n",
       "      <td>NaN</td>\n",
       "      <td>2014</td>\n",
       "      <td>Maruti</td>\n",
       "    </tr>\n",
       "    <tr>\n",
       "      <th>1018</th>\n",
       "      <td>Jeep Compass Limited 2.0 Diesel - 2017</td>\n",
       "      <td>GOLD</td>\n",
       "      <td>Mahasamund</td>\n",
       "      <td>₹17,50,000</td>\n",
       "      <td>31,000 kms</td>\n",
       "      <td>Diesel</td>\n",
       "      <td>1st Owner</td>\n",
       "      <td>2017</td>\n",
       "      <td>Jeep</td>\n",
       "    </tr>\n",
       "    <tr>\n",
       "      <th>1019</th>\n",
       "      <td>Jeep Compass Limited 2.0 Diesel - 2017</td>\n",
       "      <td>GOLD</td>\n",
       "      <td>Bilaspur</td>\n",
       "      <td>₹17,50,000</td>\n",
       "      <td>31,000 kms</td>\n",
       "      <td>Diesel</td>\n",
       "      <td>1st Owner</td>\n",
       "      <td>2017</td>\n",
       "      <td>Jeep</td>\n",
       "    </tr>\n",
       "    <tr>\n",
       "      <th>1020</th>\n",
       "      <td>Jeep Compass Limited 2.0 Diesel - 2017</td>\n",
       "      <td>GOLD</td>\n",
       "      <td>Jagdalpur</td>\n",
       "      <td>₹17,50,000</td>\n",
       "      <td>31,000 kms</td>\n",
       "      <td>Diesel</td>\n",
       "      <td>1st Owner</td>\n",
       "      <td>2017</td>\n",
       "      <td>Jeep</td>\n",
       "    </tr>\n",
       "  </tbody>\n",
       "</table>\n",
       "<p>1021 rows × 9 columns</p>\n",
       "</div>"
      ],
      "text/plain": [
       "                                              Name     Label    Location  \\\n",
       "0          Ford Figo Duratec Petrol EXI 1.2 - 2015  PLATINUM   Bangalore   \n",
       "1           Maruti Suzuki Wagon R VXI BS IV - 2016  PLATINUM   Bangalore   \n",
       "2     Hyundai Creta 1.6 SX PLUS AUTO PETROL - 2018  PLATINUM   Bangalore   \n",
       "3                             Hyundai Venue - 2019  PLATINUM     Chennai   \n",
       "4                                Honda Jazz - 2017  PLATINUM        Pune   \n",
       "...                                            ...       ...         ...   \n",
       "1016                  Hyundai i10 Magna 1.2 - 2014      GOLD   Bangalore   \n",
       "1017         Maruti Suzuki Alto K10 LXi CNG - 2014      GOLD   Bangalore   \n",
       "1018        Jeep Compass Limited 2.0 Diesel - 2017      GOLD  Mahasamund   \n",
       "1019        Jeep Compass Limited 2.0 Diesel - 2017      GOLD    Bilaspur   \n",
       "1020        Jeep Compass Limited 2.0 Diesel - 2017      GOLD   Jagdalpur   \n",
       "\n",
       "           Price   Kms_driven Fuel_type       Owner  Year  Company  \n",
       "0      ₹3,80,000  35,056 kms     Petrol         NaN  2015     Ford  \n",
       "1      ₹4,65,000  44,000 kms     Petrol         NaN  2016   Maruti  \n",
       "2     ₹13,50,000  42,917 kms     Petrol         NaN  2018  Hyundai  \n",
       "3     ₹10,19,699  16,112 kms    Petrol    2nd Owner  2019  Hyundai  \n",
       "4      ₹7,13,499  30,988 kms    Petrol    2nd Owner  2017    Honda  \n",
       "...          ...          ...       ...         ...   ...      ...  \n",
       "1016   ₹2,29,000  65,000 kms    Petrol    1st Owner  2014  Hyundai  \n",
       "1017   ₹2,75,000  60,000 kms     Petrol         NaN  2014   Maruti  \n",
       "1018  ₹17,50,000  31,000 kms    Diesel    1st Owner  2017     Jeep  \n",
       "1019  ₹17,50,000  31,000 kms    Diesel    1st Owner  2017     Jeep  \n",
       "1020  ₹17,50,000  31,000 kms    Diesel    1st Owner  2017     Jeep  \n",
       "\n",
       "[1021 rows x 9 columns]"
      ]
     },
     "execution_count": 119,
     "metadata": {},
     "output_type": "execute_result"
    }
   ],
   "source": [
    "df_car_data"
   ]
  },
  {
   "cell_type": "code",
   "execution_count": 120,
   "metadata": {},
   "outputs": [
    {
     "data": {
      "text/plain": [
       "Name            0\n",
       "Label           0\n",
       "Location        2\n",
       "Price           0\n",
       "Kms_driven      0\n",
       "Fuel_type       0\n",
       "Owner         290\n",
       "Year            0\n",
       "Company         0\n",
       "dtype: int64"
      ]
     },
     "execution_count": 120,
     "metadata": {},
     "output_type": "execute_result"
    }
   ],
   "source": [
    "df_car_data.isnull().sum()"
   ]
  },
  {
   "cell_type": "code",
   "execution_count": 121,
   "metadata": {},
   "outputs": [
    {
     "name": "stderr",
     "output_type": "stream",
     "text": [
      "C:\\Users\\lenovo\\AppData\\Local\\Temp\\ipykernel_7128\\3632847227.py:1: FutureWarning: A value is trying to be set on a copy of a DataFrame or Series through chained assignment using an inplace method.\n",
      "The behavior will change in pandas 3.0. This inplace method will never work because the intermediate object on which we are setting values always behaves as a copy.\n",
      "\n",
      "For example, when doing 'df[col].method(value, inplace=True)', try using 'df.method({col: value}, inplace=True)' or df[col] = df[col].method(value) instead, to perform the operation inplace on the original object.\n",
      "\n",
      "\n",
      "  df_car_data[\"Location\"].fillna(value=df_car_data[\"Location\"].mode().values[0],inplace=True)\n"
     ]
    }
   ],
   "source": [
    "df_car_data[\"Location\"].fillna(value=df_car_data[\"Location\"].mode().values[0],inplace=True)"
   ]
  },
  {
   "cell_type": "code",
   "execution_count": 122,
   "metadata": {},
   "outputs": [],
   "source": [
    "df_car_data.drop(columns=['Owner'],inplace=True)"
   ]
  },
  {
   "cell_type": "code",
   "execution_count": 123,
   "metadata": {},
   "outputs": [
    {
     "data": {
      "text/plain": [
       "Name          0\n",
       "Label         0\n",
       "Location      0\n",
       "Price         0\n",
       "Kms_driven    0\n",
       "Fuel_type     0\n",
       "Year          0\n",
       "Company       0\n",
       "dtype: int64"
      ]
     },
     "execution_count": 123,
     "metadata": {},
     "output_type": "execute_result"
    }
   ],
   "source": [
    "df_car_data.isnull().sum()"
   ]
  },
  {
   "cell_type": "code",
   "execution_count": 124,
   "metadata": {},
   "outputs": [
    {
     "name": "stdout",
     "output_type": "stream",
     "text": [
      "<class 'pandas.core.frame.DataFrame'>\n",
      "RangeIndex: 1021 entries, 0 to 1020\n",
      "Data columns (total 8 columns):\n",
      " #   Column      Non-Null Count  Dtype \n",
      "---  ------      --------------  ----- \n",
      " 0   Name        1021 non-null   object\n",
      " 1   Label       1021 non-null   object\n",
      " 2   Location    1021 non-null   object\n",
      " 3   Price       1021 non-null   object\n",
      " 4   Kms_driven  1021 non-null   object\n",
      " 5   Fuel_type   1021 non-null   object\n",
      " 6   Year        1021 non-null   int64 \n",
      " 7   Company     1021 non-null   object\n",
      "dtypes: int64(1), object(7)\n",
      "memory usage: 63.9+ KB\n"
     ]
    }
   ],
   "source": [
    "df_car_data.info()"
   ]
  },
  {
   "cell_type": "code",
   "execution_count": 125,
   "metadata": {},
   "outputs": [
    {
     "data": {
      "text/html": [
       "<div>\n",
       "<style scoped>\n",
       "    .dataframe tbody tr th:only-of-type {\n",
       "        vertical-align: middle;\n",
       "    }\n",
       "\n",
       "    .dataframe tbody tr th {\n",
       "        vertical-align: top;\n",
       "    }\n",
       "\n",
       "    .dataframe thead th {\n",
       "        text-align: right;\n",
       "    }\n",
       "</style>\n",
       "<table border=\"1\" class=\"dataframe\">\n",
       "  <thead>\n",
       "    <tr style=\"text-align: right;\">\n",
       "      <th></th>\n",
       "      <th>Name</th>\n",
       "      <th>Label</th>\n",
       "      <th>Location</th>\n",
       "      <th>Price</th>\n",
       "      <th>Kms_driven</th>\n",
       "      <th>Fuel_type</th>\n",
       "      <th>Year</th>\n",
       "      <th>Company</th>\n",
       "    </tr>\n",
       "  </thead>\n",
       "  <tbody>\n",
       "    <tr>\n",
       "      <th>258</th>\n",
       "      <td>Hyundai Grand i10 SPORTS 1.2 VTVT - 2014</td>\n",
       "      <td>GOLD</td>\n",
       "      <td>Pune</td>\n",
       "      <td>Ask For Price</td>\n",
       "      <td>52,000 kms</td>\n",
       "      <td>Petrol</td>\n",
       "      <td>2014</td>\n",
       "      <td>Hyundai</td>\n",
       "    </tr>\n",
       "    <tr>\n",
       "      <th>312</th>\n",
       "      <td>Datsun Redi GO - 2017</td>\n",
       "      <td>PLATINUM</td>\n",
       "      <td>Chennai</td>\n",
       "      <td>Ask For Price</td>\n",
       "      <td>40,664 kms</td>\n",
       "      <td>Petrol</td>\n",
       "      <td>2017</td>\n",
       "      <td>Datsun</td>\n",
       "    </tr>\n",
       "    <tr>\n",
       "      <th>352</th>\n",
       "      <td>Skoda Rapid 1.5 TDI CR Elegance - 2013</td>\n",
       "      <td>GOLD</td>\n",
       "      <td>Chennai</td>\n",
       "      <td>Ask For Price</td>\n",
       "      <td>1,45,000 kms</td>\n",
       "      <td>Diesel</td>\n",
       "      <td>2013</td>\n",
       "      <td>Skoda</td>\n",
       "    </tr>\n",
       "    <tr>\n",
       "      <th>540</th>\n",
       "      <td>Hyundai Creta 1.6 SX PLUS DIESEL - 2017</td>\n",
       "      <td>GOLD</td>\n",
       "      <td>Bangalore</td>\n",
       "      <td>Ask For Price</td>\n",
       "      <td>72,000 kms</td>\n",
       "      <td>Diesel</td>\n",
       "      <td>2017</td>\n",
       "      <td>Hyundai</td>\n",
       "    </tr>\n",
       "    <tr>\n",
       "      <th>638</th>\n",
       "      <td>Maruti Suzuki Celerio ZXi Opt - 2019</td>\n",
       "      <td>GOLD</td>\n",
       "      <td>Chennai</td>\n",
       "      <td>Ask For Price</td>\n",
       "      <td>32,000 kms</td>\n",
       "      <td>Petrol</td>\n",
       "      <td>2019</td>\n",
       "      <td>Maruti</td>\n",
       "    </tr>\n",
       "    <tr>\n",
       "      <th>923</th>\n",
       "      <td>Mahindra Bolero SLE BS IV - 2015</td>\n",
       "      <td>GOLD</td>\n",
       "      <td>Kolkata</td>\n",
       "      <td>Ask For Price</td>\n",
       "      <td>62,000 kms</td>\n",
       "      <td>Petrol</td>\n",
       "      <td>2015</td>\n",
       "      <td>Mahindra</td>\n",
       "    </tr>\n",
       "  </tbody>\n",
       "</table>\n",
       "</div>"
      ],
      "text/plain": [
       "                                         Name     Label   Location  \\\n",
       "258  Hyundai Grand i10 SPORTS 1.2 VTVT - 2014      GOLD       Pune   \n",
       "312                     Datsun Redi GO - 2017  PLATINUM    Chennai   \n",
       "352    Skoda Rapid 1.5 TDI CR Elegance - 2013      GOLD    Chennai   \n",
       "540   Hyundai Creta 1.6 SX PLUS DIESEL - 2017      GOLD  Bangalore   \n",
       "638      Maruti Suzuki Celerio ZXi Opt - 2019      GOLD    Chennai   \n",
       "923          Mahindra Bolero SLE BS IV - 2015      GOLD    Kolkata   \n",
       "\n",
       "             Price     Kms_driven Fuel_type  Year   Company  \n",
       "258  Ask For Price    52,000 kms     Petrol  2014   Hyundai  \n",
       "312  Ask For Price    40,664 kms    Petrol   2017    Datsun  \n",
       "352  Ask For Price  1,45,000 kms     Diesel  2013     Skoda  \n",
       "540  Ask For Price    72,000 kms     Diesel  2017   Hyundai  \n",
       "638  Ask For Price    32,000 kms    Petrol   2019    Maruti  \n",
       "923  Ask For Price    62,000 kms     Petrol  2015  Mahindra  "
      ]
     },
     "execution_count": 125,
     "metadata": {},
     "output_type": "execute_result"
    }
   ],
   "source": [
    "df_car_data[df_car_data[\"Price\"]==\"Ask For Price\"]"
   ]
  },
  {
   "cell_type": "code",
   "execution_count": 126,
   "metadata": {},
   "outputs": [],
   "source": [
    "df_car_data = df_car_data[df_car_data[\"Price\"]!=\"Ask For Price\"]"
   ]
  },
  {
   "cell_type": "code",
   "execution_count": 127,
   "metadata": {},
   "outputs": [
    {
     "name": "stderr",
     "output_type": "stream",
     "text": [
      "C:\\Users\\lenovo\\AppData\\Local\\Temp\\ipykernel_7128\\21717325.py:1: SettingWithCopyWarning: \n",
      "A value is trying to be set on a copy of a slice from a DataFrame.\n",
      "Try using .loc[row_indexer,col_indexer] = value instead\n",
      "\n",
      "See the caveats in the documentation: https://pandas.pydata.org/pandas-docs/stable/user_guide/indexing.html#returning-a-view-versus-a-copy\n",
      "  df_car_data[\"Price\"] = df_car_data[\"Price\"].replace({\"₹\":\"\",\",\":\"\"},regex=True).astype(int)\n"
     ]
    }
   ],
   "source": [
    "df_car_data[\"Price\"] = df_car_data[\"Price\"].replace({\"₹\":\"\",\",\":\"\"},regex=True).astype(int)"
   ]
  },
  {
   "cell_type": "code",
   "execution_count": 128,
   "metadata": {},
   "outputs": [
    {
     "data": {
      "text/plain": [
       "count       1,015.00\n",
       "mean      683,384.34\n",
       "std       534,947.83\n",
       "min        39,000.00\n",
       "25%       410,799.00\n",
       "50%       557,799.00\n",
       "75%       787,099.00\n",
       "max     7,500,000.00\n",
       "Name: Price, dtype: float64"
      ]
     },
     "execution_count": 128,
     "metadata": {},
     "output_type": "execute_result"
    }
   ],
   "source": [
    "pd.set_option('display.float_format', '{:,.2f}'.format)\n",
    "df_car_data[\"Price\"].describe()"
   ]
  },
  {
   "cell_type": "code",
   "execution_count": 129,
   "metadata": {},
   "outputs": [
    {
     "data": {
      "text/plain": [
       "<Axes: xlabel='Price', ylabel='Density'>"
      ]
     },
     "execution_count": 129,
     "metadata": {},
     "output_type": "execute_result"
    },
    {
     "data": {
      "image/png": "[encoded data removed]",
      "text/plain": [
       "<Figure size 640x480 with 1 Axes>"
      ]
     },
     "metadata": {},
     "output_type": "display_data"
    }
   ],
   "source": [
    "sns.kdeplot(df_car_data[\"Price\"])"
   ]
  },
  {
   "cell_type": "code",
   "execution_count": 130,
   "metadata": {},
   "outputs": [
    {
     "data": {
      "text/plain": [
       "Name          687\n",
       "Label           2\n",
       "Location       39\n",
       "Price         802\n",
       "Kms_driven    828\n",
       "Fuel_type      10\n",
       "Year           23\n",
       "Company        25\n",
       "dtype: int64"
      ]
     },
     "execution_count": 130,
     "metadata": {},
     "output_type": "execute_result"
    }
   ],
   "source": [
    "df_car_data.nunique()"
   ]
  },
  {
   "cell_type": "code",
   "execution_count": 131,
   "metadata": {},
   "outputs": [
    {
     "data": {
      "text/plain": [
       "Name\n",
       "Maruti Suzuki Baleno - 2016            17\n",
       "Maruti Suzuki Baleno - 2017            10\n",
       "Maruti Suzuki Eeco - 2019               8\n",
       "Hyundai Venue - 2019                    8\n",
       "Ford Ecosport - 2018                    7\n",
       "                                       ..\n",
       "Mahindra TUV300 T8 - 2018               1\n",
       "Tata Indica - 2007                      1\n",
       "Renault Kwid RXT - 2020                 1\n",
       "Honda Amaze - 2021                      1\n",
       "Hyundai Elite i20 Sportz 1.2 - 2015     1\n",
       "Name: count, Length: 687, dtype: int64"
      ]
     },
     "execution_count": 131,
     "metadata": {},
     "output_type": "execute_result"
    }
   ],
   "source": [
    "df_car_data[\"Name\"].value_counts()"
   ]
  },
  {
   "cell_type": "code",
   "execution_count": 132,
   "metadata": {},
   "outputs": [
    {
     "name": "stderr",
     "output_type": "stream",
     "text": [
      "C:\\Users\\lenovo\\AppData\\Local\\Temp\\ipykernel_7128\\3307499438.py:1: SettingWithCopyWarning: \n",
      "A value is trying to be set on a copy of a slice from a DataFrame.\n",
      "Try using .loc[row_indexer,col_indexer] = value instead\n",
      "\n",
      "See the caveats in the documentation: https://pandas.pydata.org/pandas-docs/stable/user_guide/indexing.html#returning-a-view-versus-a-copy\n",
      "  df_car_data[\"Name\"] = df_car_data[\"Name\"].apply(lambda a: \" \".join(a.split(' ')[0:1]))\n"
     ]
    }
   ],
   "source": [
    "df_car_data[\"Name\"] = df_car_data[\"Name\"].apply(lambda a: \" \".join(a.split(' ')[0:1]))"
   ]
  },
  {
   "cell_type": "code",
   "execution_count": 133,
   "metadata": {},
   "outputs": [
    {
     "data": {
      "text/plain": [
       "Name\n",
       "Maruti        381\n",
       "Hyundai       222\n",
       "Honda          79\n",
       "Ford           51\n",
       "Tata           44\n",
       "Renault        42\n",
       "Toyota         41\n",
       "Mahindra       41\n",
       "Volkswagen     29\n",
       "MG             14\n",
       "Kia            10\n",
       "Jeep           10\n",
       "Chevrolet      10\n",
       "BMW             7\n",
       "Skoda           6\n",
       "Nissan          5\n",
       "Audi            5\n",
       "Mercedes        4\n",
       "Datsun          4\n",
       "Fiat            3\n",
       "Volvo           2\n",
       "Jaguar          2\n",
       "Ssangyong       1\n",
       "Land            1\n",
       "Porsche         1\n",
       "Name: count, dtype: int64"
      ]
     },
     "execution_count": 133,
     "metadata": {},
     "output_type": "execute_result"
    }
   ],
   "source": [
    "df_car_data[\"Name\"].value_counts()"
   ]
  },
  {
   "cell_type": "code",
   "execution_count": 134,
   "metadata": {},
   "outputs": [
    {
     "data": {
      "text/plain": [
       "Name\n",
       "Maruti        381\n",
       "Hyundai       222\n",
       "Honda          79\n",
       "Ford           51\n",
       "Tata           44\n",
       "Renault        42\n",
       "Toyota         41\n",
       "Mahindra       41\n",
       "Volkswagen     29\n",
       "MG             14\n",
       "Kia            10\n",
       "Jeep           10\n",
       "Chevrolet      10\n",
       "BMW             7\n",
       "Skoda           6\n",
       "Nissan          5\n",
       "Audi            5\n",
       "Mercedes        4\n",
       "Datsun          4\n",
       "Fiat            3\n",
       "Volvo           2\n",
       "Jaguar          2\n",
       "Ssangyong       1\n",
       "Land            1\n",
       "Porsche         1\n",
       "Name: count, dtype: int64"
      ]
     },
     "execution_count": 134,
     "metadata": {},
     "output_type": "execute_result"
    }
   ],
   "source": [
    "df_car_data[\"Name\"].value_counts()"
   ]
  },
  {
   "cell_type": "code",
   "execution_count": 135,
   "metadata": {},
   "outputs": [
    {
     "name": "stderr",
     "output_type": "stream",
     "text": [
      "C:\\Users\\lenovo\\AppData\\Local\\Temp\\ipykernel_7128\\381118432.py:1: SettingWithCopyWarning: \n",
      "A value is trying to be set on a copy of a slice from a DataFrame\n",
      "\n",
      "See the caveats in the documentation: https://pandas.pydata.org/pandas-docs/stable/user_guide/indexing.html#returning-a-view-versus-a-copy\n",
      "  df_car_data.drop(columns=[\"Company\"],inplace=True)\n"
     ]
    }
   ],
   "source": [
    "df_car_data.drop(columns=[\"Company\"],inplace=True)"
   ]
  },
  {
   "cell_type": "code",
   "execution_count": 136,
   "metadata": {},
   "outputs": [
    {
     "data": {
      "text/plain": [
       "Label\n",
       "PLATINUM    678\n",
       "GOLD        337\n",
       "Name: count, dtype: int64"
      ]
     },
     "execution_count": 136,
     "metadata": {},
     "output_type": "execute_result"
    }
   ],
   "source": [
    "df_car_data[\"Label\"].value_counts()"
   ]
  },
  {
   "cell_type": "code",
   "execution_count": 137,
   "metadata": {},
   "outputs": [
    {
     "data": {
      "text/plain": [
       "<Axes: xlabel='Label'>"
      ]
     },
     "execution_count": 137,
     "metadata": {},
     "output_type": "execute_result"
    },
    {
     "data": {
      "image/png": "[encoded data removed]",
      "text/plain": [
       "<Figure size 640x480 with 1 Axes>"
      ]
     },
     "metadata": {},
     "output_type": "display_data"
    }
   ],
   "source": [
    "df_car_data[\"Label\"].value_counts().plot(kind='bar')"
   ]
  },
  {
   "cell_type": "code",
   "execution_count": 138,
   "metadata": {},
   "outputs": [
    {
     "data": {
      "text/plain": [
       "<seaborn.axisgrid.FacetGrid at 0x281bfb2d430>"
      ]
     },
     "execution_count": 138,
     "metadata": {},
     "output_type": "execute_result"
    },
    {
     "data": {
      "image/png": "[encoded data removed]",
      "text/plain": [
       "<Figure size 511.111x500 with 1 Axes>"
      ]
     },
     "metadata": {},
     "output_type": "display_data"
    }
   ],
   "source": [
    "sns.catplot(x=df_car_data[\"Label\"],y=df_car_data[\"Price\"],kind=\"bar\",errorbar=None,width=0.4)"
   ]
  },
  {
   "cell_type": "code",
   "execution_count": 139,
   "metadata": {},
   "outputs": [],
   "source": [
    "df_car_data = df_car_data[df_car_data.groupby(\"Location\").Location.transform('count')>5]"
   ]
  },
  {
   "cell_type": "code",
   "execution_count": 140,
   "metadata": {},
   "outputs": [
    {
     "data": {
      "text/plain": [
       "Location\n",
       "Pune         322\n",
       "Chennai      308\n",
       "Bangalore    252\n",
       "Kolkata       19\n",
       "Mumbai        19\n",
       "Madurai       12\n",
       "Hyderabad     11\n",
       "Delhi         10\n",
       "Jaipur        10\n",
       "Trichy         8\n",
       "Name: count, dtype: int64"
      ]
     },
     "execution_count": 140,
     "metadata": {},
     "output_type": "execute_result"
    }
   ],
   "source": [
    "df_car_data[\"Location\"].value_counts()"
   ]
  },
  {
   "cell_type": "code",
   "execution_count": 141,
   "metadata": {},
   "outputs": [
    {
     "data": {
      "text/plain": [
       "<Axes: xlabel='Location'>"
      ]
     },
     "execution_count": 141,
     "metadata": {},
     "output_type": "execute_result"
    },
    {
     "data": {
      "image/png": "[encoded data removed]",
      "text/plain": [
       "<Figure size 640x480 with 1 Axes>"
      ]
     },
     "metadata": {},
     "output_type": "display_data"
    }
   ],
   "source": [
    "df_car_data['Location'].value_counts().plot(kind='bar')"
   ]
  },
  {
   "cell_type": "code",
   "execution_count": 142,
   "metadata": {},
   "outputs": [
    {
     "data": {
      "text/plain": [
       "([0, 1, 2, 3, 4, 5, 6, 7, 8, 9],\n",
       " [Text(0, 0, 'Mumbai'),\n",
       "  Text(1, 0, 'Madurai'),\n",
       "  Text(2, 0, 'Pune'),\n",
       "  Text(3, 0, 'Hyderabad'),\n",
       "  Text(4, 0, 'Kolkata'),\n",
       "  Text(5, 0, 'Trichy'),\n",
       "  Text(6, 0, 'Bangalore'),\n",
       "  Text(7, 0, 'Chennai'),\n",
       "  Text(8, 0, 'Jaipur'),\n",
       "  Text(9, 0, 'Delhi')])"
      ]
     },
     "execution_count": 142,
     "metadata": {},
     "output_type": "execute_result"
    },
    {
     "data": {
      "image/png": "[encoded data removed]",
      "text/plain": [
       "<Figure size 511.111x500 with 1 Axes>"
      ]
     },
     "metadata": {},
     "output_type": "display_data"
    }
   ],
   "source": [
    "loc_order = df_car_data.groupby(\"Location\")[\"Price\"].mean().sort_values(ascending=False).index\n",
    "sns.catplot(x=df_car_data[\"Location\"],y=df_car_data[\"Price\"],errorbar=None,kind='bar',order=loc_order)\n",
    "plt.xticks(rotation=90)"
   ]
  },
  {
   "cell_type": "code",
   "execution_count": 143,
   "metadata": {},
   "outputs": [],
   "source": [
    "df_car_data[\"Kms_driven\"] = df_car_data[\"Kms_driven\"].replace({\"kms\":\"\",\",\":\"\"},regex=True).astype(int)"
   ]
  },
  {
   "cell_type": "code",
   "execution_count": 144,
   "metadata": {},
   "outputs": [
    {
     "data": {
      "text/plain": [
       "<Axes: xlabel='Kms_driven', ylabel='Density'>"
      ]
     },
     "execution_count": 144,
     "metadata": {},
     "output_type": "execute_result"
    },
    {
     "data": {
      "image/png": "[encoded data removed]",
      "text/plain": [
       "<Figure size 640x480 with 1 Axes>"
      ]
     },
     "metadata": {},
     "output_type": "display_data"
    }
   ],
   "source": [
    "sns.kdeplot(df_car_data[\"Kms_driven\"])"
   ]
  },
  {
   "cell_type": "code",
   "execution_count": 145,
   "metadata": {},
   "outputs": [
    {
     "data": {
      "text/plain": [
       "<Axes: xlabel='Kms_driven', ylabel='Price'>"
      ]
     },
     "execution_count": 145,
     "metadata": {},
     "output_type": "execute_result"
    },
    {
     "data": {
      "image/png": "[encoded data removed]",
      "text/plain": [
       "<Figure size 640x480 with 1 Axes>"
      ]
     },
     "metadata": {},
     "output_type": "display_data"
    }
   ],
   "source": [
    "sns.scatterplot(x=df_car_data[\"Kms_driven\"],y=df_car_data[\"Price\"])"
   ]
  },
  {
   "cell_type": "code",
   "execution_count": 146,
   "metadata": {},
   "outputs": [],
   "source": [
    "df_car_data[\"Fuel_type\"] = df_car_data[\"Fuel_type\"].str.strip()"
   ]
  },
  {
   "cell_type": "code",
   "execution_count": 147,
   "metadata": {},
   "outputs": [],
   "source": [
    "df_car_data = df_car_data[df_car_data.groupby(\"Fuel_type\").Fuel_type.transform('count')>5]"
   ]
  },
  {
   "cell_type": "code",
   "execution_count": 148,
   "metadata": {},
   "outputs": [
    {
     "data": {
      "text/plain": [
       "Fuel_type\n",
       "Petrol    701\n",
       "Diesel    260\n",
       "Name: count, dtype: int64"
      ]
     },
     "execution_count": 148,
     "metadata": {},
     "output_type": "execute_result"
    }
   ],
   "source": [
    "df_car_data[\"Fuel_type\"].value_counts()"
   ]
  },
  {
   "cell_type": "code",
   "execution_count": 149,
   "metadata": {},
   "outputs": [
    {
     "data": {
      "text/plain": [
       "<Axes: xlabel='Fuel_type'>"
      ]
     },
     "execution_count": 149,
     "metadata": {},
     "output_type": "execute_result"
    },
    {
     "data": {
      "image/png": "[encoded data removed]",
      "text/plain": [
       "<Figure size 640x480 with 1 Axes>"
      ]
     },
     "metadata": {},
     "output_type": "display_data"
    }
   ],
   "source": [
    "df_car_data[\"Fuel_type\"].value_counts().plot(kind='bar')"
   ]
  },
  {
   "cell_type": "code",
   "execution_count": 150,
   "metadata": {},
   "outputs": [
    {
     "data": {
      "text/plain": [
       "<seaborn.axisgrid.FacetGrid at 0x281c01597f0>"
      ]
     },
     "execution_count": 150,
     "metadata": {},
     "output_type": "execute_result"
    },
    {
     "data": {
      "image/png": "[encoded data removed]",
      "text/plain": [
       "<Figure size 511.111x500 with 1 Axes>"
      ]
     },
     "metadata": {},
     "output_type": "display_data"
    }
   ],
   "source": [
    "sns.catplot(x=df_car_data[\"Fuel_type\"],y=df_car_data[\"Price\"],kind='bar',errorbar=None,width=0.5)"
   ]
  },
  {
   "cell_type": "code",
   "execution_count": 151,
   "metadata": {},
   "outputs": [],
   "source": [
    "df_car_data[\"Diesel\"] = df_car_data[\"Fuel_type\"].apply(lambda a: 1 if \"diesel\" in a.lower() else 0)"
   ]
  },
  {
   "cell_type": "code",
   "execution_count": 152,
   "metadata": {},
   "outputs": [],
   "source": [
    "df_car_data.drop(columns=['Fuel_type'],inplace=True)"
   ]
  },
  {
   "cell_type": "code",
   "execution_count": 153,
   "metadata": {},
   "outputs": [
    {
     "data": {
      "text/html": [
       "<div>\n",
       "<style scoped>\n",
       "    .dataframe tbody tr th:only-of-type {\n",
       "        vertical-align: middle;\n",
       "    }\n",
       "\n",
       "    .dataframe tbody tr th {\n",
       "        vertical-align: top;\n",
       "    }\n",
       "\n",
       "    .dataframe thead th {\n",
       "        text-align: right;\n",
       "    }\n",
       "</style>\n",
       "<table border=\"1\" class=\"dataframe\">\n",
       "  <thead>\n",
       "    <tr style=\"text-align: right;\">\n",
       "      <th></th>\n",
       "      <th>Name</th>\n",
       "      <th>Label</th>\n",
       "      <th>Location</th>\n",
       "      <th>Price</th>\n",
       "      <th>Kms_driven</th>\n",
       "      <th>Year</th>\n",
       "      <th>Diesel</th>\n",
       "    </tr>\n",
       "  </thead>\n",
       "  <tbody>\n",
       "    <tr>\n",
       "      <th>0</th>\n",
       "      <td>Ford</td>\n",
       "      <td>PLATINUM</td>\n",
       "      <td>Bangalore</td>\n",
       "      <td>380000</td>\n",
       "      <td>35056</td>\n",
       "      <td>2015</td>\n",
       "      <td>0</td>\n",
       "    </tr>\n",
       "    <tr>\n",
       "      <th>1</th>\n",
       "      <td>Maruti</td>\n",
       "      <td>PLATINUM</td>\n",
       "      <td>Bangalore</td>\n",
       "      <td>465000</td>\n",
       "      <td>44000</td>\n",
       "      <td>2016</td>\n",
       "      <td>0</td>\n",
       "    </tr>\n",
       "    <tr>\n",
       "      <th>2</th>\n",
       "      <td>Hyundai</td>\n",
       "      <td>PLATINUM</td>\n",
       "      <td>Bangalore</td>\n",
       "      <td>1350000</td>\n",
       "      <td>42917</td>\n",
       "      <td>2018</td>\n",
       "      <td>0</td>\n",
       "    </tr>\n",
       "    <tr>\n",
       "      <th>3</th>\n",
       "      <td>Hyundai</td>\n",
       "      <td>PLATINUM</td>\n",
       "      <td>Chennai</td>\n",
       "      <td>1019699</td>\n",
       "      <td>16112</td>\n",
       "      <td>2019</td>\n",
       "      <td>0</td>\n",
       "    </tr>\n",
       "    <tr>\n",
       "      <th>4</th>\n",
       "      <td>Honda</td>\n",
       "      <td>PLATINUM</td>\n",
       "      <td>Pune</td>\n",
       "      <td>713499</td>\n",
       "      <td>30988</td>\n",
       "      <td>2017</td>\n",
       "      <td>0</td>\n",
       "    </tr>\n",
       "    <tr>\n",
       "      <th>...</th>\n",
       "      <td>...</td>\n",
       "      <td>...</td>\n",
       "      <td>...</td>\n",
       "      <td>...</td>\n",
       "      <td>...</td>\n",
       "      <td>...</td>\n",
       "      <td>...</td>\n",
       "    </tr>\n",
       "    <tr>\n",
       "      <th>1013</th>\n",
       "      <td>Mahindra</td>\n",
       "      <td>GOLD</td>\n",
       "      <td>Trichy</td>\n",
       "      <td>375000</td>\n",
       "      <td>115000</td>\n",
       "      <td>2009</td>\n",
       "      <td>1</td>\n",
       "    </tr>\n",
       "    <tr>\n",
       "      <th>1014</th>\n",
       "      <td>Maruti</td>\n",
       "      <td>GOLD</td>\n",
       "      <td>Trichy</td>\n",
       "      <td>525000</td>\n",
       "      <td>13000</td>\n",
       "      <td>2020</td>\n",
       "      <td>0</td>\n",
       "    </tr>\n",
       "    <tr>\n",
       "      <th>1015</th>\n",
       "      <td>Maruti</td>\n",
       "      <td>GOLD</td>\n",
       "      <td>Delhi</td>\n",
       "      <td>550000</td>\n",
       "      <td>42000</td>\n",
       "      <td>2018</td>\n",
       "      <td>1</td>\n",
       "    </tr>\n",
       "    <tr>\n",
       "      <th>1016</th>\n",
       "      <td>Hyundai</td>\n",
       "      <td>GOLD</td>\n",
       "      <td>Bangalore</td>\n",
       "      <td>229000</td>\n",
       "      <td>65000</td>\n",
       "      <td>2014</td>\n",
       "      <td>0</td>\n",
       "    </tr>\n",
       "    <tr>\n",
       "      <th>1017</th>\n",
       "      <td>Maruti</td>\n",
       "      <td>GOLD</td>\n",
       "      <td>Bangalore</td>\n",
       "      <td>275000</td>\n",
       "      <td>60000</td>\n",
       "      <td>2014</td>\n",
       "      <td>0</td>\n",
       "    </tr>\n",
       "  </tbody>\n",
       "</table>\n",
       "<p>961 rows × 7 columns</p>\n",
       "</div>"
      ],
      "text/plain": [
       "          Name     Label   Location    Price  Kms_driven  Year  Diesel\n",
       "0         Ford  PLATINUM  Bangalore   380000       35056  2015       0\n",
       "1       Maruti  PLATINUM  Bangalore   465000       44000  2016       0\n",
       "2      Hyundai  PLATINUM  Bangalore  1350000       42917  2018       0\n",
       "3      Hyundai  PLATINUM    Chennai  1019699       16112  2019       0\n",
       "4        Honda  PLATINUM       Pune   713499       30988  2017       0\n",
       "...        ...       ...        ...      ...         ...   ...     ...\n",
       "1013  Mahindra      GOLD     Trichy   375000      115000  2009       1\n",
       "1014    Maruti      GOLD     Trichy   525000       13000  2020       0\n",
       "1015    Maruti      GOLD      Delhi   550000       42000  2018       1\n",
       "1016   Hyundai      GOLD  Bangalore   229000       65000  2014       0\n",
       "1017    Maruti      GOLD  Bangalore   275000       60000  2014       0\n",
       "\n",
       "[961 rows x 7 columns]"
      ]
     },
     "execution_count": 153,
     "metadata": {},
     "output_type": "execute_result"
    }
   ],
   "source": [
    "df_car_data"
   ]
  },
  {
   "cell_type": "code",
   "execution_count": 154,
   "metadata": {},
   "outputs": [
    {
     "data": {
      "text/plain": [
       "Year\n",
       "2016    158\n",
       "2017    156\n",
       "2018    145\n",
       "2019    109\n",
       "2015     93\n",
       "2014     62\n",
       "2020     47\n",
       "2013     44\n",
       "2012     31\n",
       "2011     29\n",
       "2021     20\n",
       "2007     16\n",
       "2010     16\n",
       "2009     10\n",
       "2008      8\n",
       "2005      5\n",
       "2006      4\n",
       "2001      2\n",
       "2002      2\n",
       "2000      1\n",
       "2004      1\n",
       "2022      1\n",
       "2003      1\n",
       "Name: count, dtype: int64"
      ]
     },
     "execution_count": 154,
     "metadata": {},
     "output_type": "execute_result"
    }
   ],
   "source": [
    "df_car_data[\"Year\"].value_counts()"
   ]
  },
  {
   "cell_type": "code",
   "execution_count": 155,
   "metadata": {},
   "outputs": [],
   "source": [
    "df_car_data = df_car_data[df_car_data.groupby(\"Year\").Year.transform('count')>10]"
   ]
  },
  {
   "cell_type": "code",
   "execution_count": 156,
   "metadata": {},
   "outputs": [
    {
     "data": {
      "text/plain": [
       "<Axes: xlabel='Year'>"
      ]
     },
     "execution_count": 156,
     "metadata": {},
     "output_type": "execute_result"
    },
    {
     "data": {
      "image/png": "[encoded data removed]",
      "text/plain": [
       "<Figure size 640x480 with 1 Axes>"
      ]
     },
     "metadata": {},
     "output_type": "display_data"
    }
   ],
   "source": [
    "df_car_data[\"Year\"].value_counts().plot(kind='bar')"
   ]
  },
  {
   "cell_type": "code",
   "execution_count": 157,
   "metadata": {},
   "outputs": [
    {
     "data": {
      "image/png": "[encoded data removed]",
      "text/plain": [
       "<Figure size 640x480 with 1 Axes>"
      ]
     },
     "metadata": {},
     "output_type": "display_data"
    }
   ],
   "source": [
    "sns.lineplot(x=df_car_data[\"Year\"],y=df_car_data[\"Price\"],errorbar=None)\n",
    "plt.xticks(rotation=90)\n",
    "plt.show()"
   ]
  },
  {
   "cell_type": "code",
   "execution_count": 158,
   "metadata": {},
   "outputs": [
    {
     "data": {
      "text/plain": [
       "<Axes: xlabel='Price', ylabel='Density'>"
      ]
     },
     "execution_count": 158,
     "metadata": {},
     "output_type": "execute_result"
    },
    {
     "data": {
      "image/png": "[encoded data removed]",
      "text/plain": [
       "<Figure size 640x480 with 1 Axes>"
      ]
     },
     "metadata": {},
     "output_type": "display_data"
    }
   ],
   "source": [
    "sns.kdeplot(np.log(df_car_data[\"Price\"]))"
   ]
  },
  {
   "cell_type": "code",
   "execution_count": 159,
   "metadata": {},
   "outputs": [
    {
     "data": {
      "text/plain": [
       "<Axes: xlabel='Price'>"
      ]
     },
     "execution_count": 159,
     "metadata": {},
     "output_type": "execute_result"
    },
    {
     "data": {
      "image/png": "[encoded data removed]",
      "text/plain": [
       "<Figure size 640x480 with 1 Axes>"
      ]
     },
     "metadata": {},
     "output_type": "display_data"
    }
   ],
   "source": [
    "sns.boxplot(x=df_car_data[\"Price\"])"
   ]
  },
  {
   "cell_type": "code",
   "execution_count": 160,
   "metadata": {},
   "outputs": [
    {
     "data": {
      "text/plain": [
       "7500000"
      ]
     },
     "execution_count": 160,
     "metadata": {},
     "output_type": "execute_result"
    }
   ],
   "source": [
    "df_car_data[\"Price\"].max()"
   ]
  },
  {
   "cell_type": "code",
   "execution_count": 161,
   "metadata": {},
   "outputs": [
    {
     "data": {
      "text/plain": [
       "count         926.00\n",
       "mean      693,973.56\n",
       "std       524,553.17\n",
       "min        39,000.00\n",
       "25%       425,000.00\n",
       "50%       567,149.00\n",
       "75%       787,249.00\n",
       "max     7,500,000.00\n",
       "Name: Price, dtype: float64"
      ]
     },
     "execution_count": 161,
     "metadata": {},
     "output_type": "execute_result"
    }
   ],
   "source": [
    "df_car_data[\"Price\"].describe()"
   ]
  },
  {
   "cell_type": "code",
   "execution_count": 162,
   "metadata": {},
   "outputs": [
    {
     "name": "stderr",
     "output_type": "stream",
     "text": [
      "C:\\Users\\lenovo\\AppData\\Local\\Temp\\ipykernel_7128\\2380213721.py:1: SettingWithCopyWarning: \n",
      "A value is trying to be set on a copy of a slice from a DataFrame.\n",
      "Try using .loc[row_indexer,col_indexer] = value instead\n",
      "\n",
      "See the caveats in the documentation: https://pandas.pydata.org/pandas-docs/stable/user_guide/indexing.html#returning-a-view-versus-a-copy\n",
      "  df_car_data['Label'] = df_car_data[\"Label\"].apply(lambda a: a.lower())\n"
     ]
    }
   ],
   "source": [
    "df_car_data['Label'] = df_car_data[\"Label\"].apply(lambda a: a.lower())"
   ]
  },
  {
   "cell_type": "code",
   "execution_count": 163,
   "metadata": {},
   "outputs": [
    {
     "data": {
      "text/plain": [
       "Name          0\n",
       "Label         0\n",
       "Location      0\n",
       "Price         0\n",
       "Kms_driven    0\n",
       "Year          0\n",
       "Diesel        0\n",
       "dtype: int64"
      ]
     },
     "execution_count": 163,
     "metadata": {},
     "output_type": "execute_result"
    }
   ],
   "source": [
    "df_car_data.isnull().sum()"
   ]
  },
  {
   "cell_type": "code",
   "execution_count": 164,
   "metadata": {},
   "outputs": [],
   "source": [
    "X = df_car_data.drop(columns=[\"Price\"])\n",
    "y = df_car_data[\"Price\"]"
   ]
  },
  {
   "cell_type": "code",
   "execution_count": 165,
   "metadata": {},
   "outputs": [],
   "source": [
    "from sklearn.model_selection import train_test_split"
   ]
  },
  {
   "cell_type": "code",
   "execution_count": 166,
   "metadata": {},
   "outputs": [],
   "source": [
    "X_train,X_test,y_train,y_test = train_test_split(X,y,random_state=37,test_size=0.15)"
   ]
  },
  {
   "cell_type": "code",
   "execution_count": 167,
   "metadata": {},
   "outputs": [],
   "source": [
    "from sklearn.linear_model import LinearRegression\n",
    "from sklearn.compose import ColumnTransformer\n",
    "from sklearn.preprocessing import OneHotEncoder\n",
    "from sklearn.pipeline import Pipeline\n",
    "from sklearn.metrics import r2_score,mean_absolute_error,root_mean_squared_error"
   ]
  },
  {
   "cell_type": "code",
   "execution_count": 168,
   "metadata": {},
   "outputs": [
    {
     "name": "stdout",
     "output_type": "stream",
     "text": [
      "0.27183767956348737\n"
     ]
    }
   ],
   "source": [
    "step1 = ColumnTransformer(transformers =[\n",
    "   ('col_tra',OneHotEncoder(drop='first'),[0,1,2])\n",
    "],remainder='passthrough')\n",
    "step2 = LinearRegression()\n",
    "pipe = Pipeline([('step1',step1),('step2',step2)])\n",
    "pipe.fit(X_train,y_train)\n",
    "y_pred = pipe.predict(X_test)\n",
    "print(r2_score(y_test,y_pred))"
   ]
  }
 ],
 "metadata": {
  "kernelspec": {
   "display_name": "base",
   "language": "python",
   "name": "python3"
  },
  "language_info": {
   "codemirror_mode": {
    "name": "ipython",
    "version": 3
   },
   "file_extension": ".py",
   "mimetype": "text/x-python",
   "name": "python",
   "nbconvert_exporter": "python",
   "pygments_lexer": "ipython3",
   "version": "3.12.4"
  }
 },
 "nbformat": 4,
 "nbformat_minor": 2
}
