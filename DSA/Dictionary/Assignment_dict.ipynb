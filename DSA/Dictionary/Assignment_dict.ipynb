{
 "cells": [
  {
   "cell_type": "markdown",
   "metadata": {},
   "source": [
    "# Dictionary comprehension Assignment"
   ]
  },
  {
   "cell_type": "markdown",
   "metadata": {},
   "source": [
    "1. Square Values Dictionary:\n",
    "    Create a dictionary where the keys are numbers from 1 to 10,\n",
    "    and the values are the squares of the keys."
   ]
  },
  {
   "cell_type": "code",
   "execution_count": 4,
   "metadata": {},
   "outputs": [],
   "source": [
    "squares = {key: value ** 2 for key,value in enumerate(range(1,11),1)}"
   ]
  },
  {
   "cell_type": "code",
   "execution_count": 5,
   "metadata": {},
   "outputs": [
    {
     "data": {
      "text/plain": [
       "{1: 1, 2: 4, 3: 9, 4: 16, 5: 25, 6: 36, 7: 49, 8: 64, 9: 81, 10: 100}"
      ]
     },
     "execution_count": 5,
     "metadata": {},
     "output_type": "execute_result"
    }
   ],
   "source": [
    "squares"
   ]
  },
  {
   "cell_type": "markdown",
   "metadata": {},
   "source": [
    "2. Filter Even Squares:\n",
    "Given a dictionary with numbers from 1 to 20 as keys and their squares as values, use dictionary comprehension to create a new dictionary with only the keys that have even square values."
   ]
  },
  {
   "cell_type": "code",
   "execution_count": 7,
   "metadata": {},
   "outputs": [
    {
     "data": {
      "text/plain": [
       "{1: 1,\n",
       " 2: 4,\n",
       " 3: 9,\n",
       " 4: 16,\n",
       " 5: 25,\n",
       " 6: 36,\n",
       " 7: 49,\n",
       " 8: 64,\n",
       " 9: 81,\n",
       " 10: 100,\n",
       " 11: 121,\n",
       " 12: 144,\n",
       " 13: 169,\n",
       " 14: 196,\n",
       " 15: 225,\n",
       " 16: 256,\n",
       " 17: 289,\n",
       " 18: 324,\n",
       " 19: 361,\n",
       " 20: 400}"
      ]
     },
     "execution_count": 7,
     "metadata": {},
     "output_type": "execute_result"
    }
   ],
   "source": [
    "numbers = {key: value ** 2 for key,value in enumerate(range(1,21),1)}\n",
    "numbers"
   ]
  },
  {
   "cell_type": "code",
   "execution_count": 8,
   "metadata": {},
   "outputs": [
    {
     "data": {
      "text/plain": [
       "{2: 4,\n",
       " 4: 16,\n",
       " 6: 36,\n",
       " 8: 64,\n",
       " 10: 100,\n",
       " 12: 144,\n",
       " 14: 196,\n",
       " 16: 256,\n",
       " 18: 324,\n",
       " 20: 400}"
      ]
     },
     "execution_count": 8,
     "metadata": {},
     "output_type": "execute_result"
    }
   ],
   "source": [
    "{key: value for key,value in numbers.items() if value%2==0}"
   ]
  },
  {
   "cell_type": "markdown",
   "metadata": {},
   "source": [
    "3. Swap Keys and Values: Create a dictionary where the keys and values are swapped\n",
    "from an existing dictionary. The original dictionary has country\n",
    "names as keys and their capitals as values."
   ]
  },
  {
   "cell_type": "code",
   "execution_count": 9,
   "metadata": {},
   "outputs": [],
   "source": [
    "countries = [\"India\", \"United States\", \"Canada\", \"Australia\", \"United Kingdom\", \"France\", \"Germany\", \"Japan\", \"Brazil\", \"South Africa\"]\n",
    "capitals = [\"New Delhi\", \"Washington, D.C.\", \"Ottawa\", \"Canberra\", \"London\", \"Paris\", \"Berlin\", \"Tokyo\", \"Brasilia\", \"Pretoria\"]"
   ]
  },
  {
   "cell_type": "code",
   "execution_count": 11,
   "metadata": {},
   "outputs": [
    {
     "data": {
      "text/plain": [
       "{'India': 'New Delhi',\n",
       " 'United States': 'Washington, D.C.',\n",
       " 'Canada': 'Ottawa',\n",
       " 'Australia': 'Canberra',\n",
       " 'United Kingdom': 'London',\n",
       " 'France': 'Paris',\n",
       " 'Germany': 'Berlin',\n",
       " 'Japan': 'Tokyo',\n",
       " 'Brazil': 'Brasilia',\n",
       " 'South Africa': 'Pretoria'}"
      ]
     },
     "execution_count": 11,
     "metadata": {},
     "output_type": "execute_result"
    }
   ],
   "source": [
    "countries_capitals = { key: value for key,value in zip(countries,capitals) }\n",
    "countries_capitals"
   ]
  },
  {
   "cell_type": "code",
   "execution_count": 16,
   "metadata": {},
   "outputs": [
    {
     "data": {
      "text/plain": [
       "{'New Delhi': 'India',\n",
       " 'Washington, D.C.': 'United States',\n",
       " 'Ottawa': 'Canada',\n",
       " 'Canberra': 'Australia',\n",
       " 'London': 'United Kingdom',\n",
       " 'Paris': 'France',\n",
       " 'Berlin': 'Germany',\n",
       " 'Tokyo': 'Japan',\n",
       " 'Brasilia': 'Brazil',\n",
       " 'Pretoria': 'South Africa'}"
      ]
     },
     "execution_count": 16,
     "metadata": {},
     "output_type": "execute_result"
    }
   ],
   "source": [
    "capitals_countries = { value: key for key,value in countries_capitals.items() }\n",
    "capitals_countries = { key: value for value,key in countries_capitals.items() }\n",
    "capitals_countries"
   ]
  },
  {
   "cell_type": "markdown",
   "metadata": {},
   "source": [
    "4. Character Frequency Count:\n",
    "Given a string, use dictionary comprehension to count the\n",
    "frequency of each character in the string."
   ]
  },
  {
   "cell_type": "code",
   "execution_count": 17,
   "metadata": {},
   "outputs": [],
   "source": [
    "string = \"abracadabra12345abracadabra\""
   ]
  },
  {
   "cell_type": "code",
   "execution_count": 23,
   "metadata": {},
   "outputs": [
    {
     "data": {
      "text/plain": [
       "{'a': 10,\n",
       " 'b': 4,\n",
       " 'r': 4,\n",
       " 'c': 2,\n",
       " 'd': 2,\n",
       " '1': 1,\n",
       " '2': 1,\n",
       " '3': 1,\n",
       " '4': 1,\n",
       " '5': 1}"
      ]
     },
     "execution_count": 23,
     "metadata": {},
     "output_type": "execute_result"
    }
   ],
   "source": [
    "{key: string.count(value) for key,value in zip(string,string) }"
   ]
  },
  {
   "cell_type": "code",
   "execution_count": 29,
   "metadata": {},
   "outputs": [
    {
     "name": "stdout",
     "output_type": "stream",
     "text": [
      "{'r', '3', 'a', '2', '5', 'd', '4', 'c', '1', 'b'}\n"
     ]
    },
    {
     "data": {
      "text/plain": [
       "{'r': 4,\n",
       " '3': 1,\n",
       " 'a': 10,\n",
       " '2': 1,\n",
       " '5': 1,\n",
       " 'd': 2,\n",
       " '4': 1,\n",
       " 'c': 2,\n",
       " '1': 1,\n",
       " 'b': 4}"
      ]
     },
     "execution_count": 29,
     "metadata": {},
     "output_type": "execute_result"
    }
   ],
   "source": [
    "print(set(string))\n",
    "{char: string.count(char) for char in set(string)}"
   ]
  },
  {
   "cell_type": "markdown",
   "metadata": {},
   "source": [
    "5. Dictionary of Lengths:\n",
    "Given a list of words, use dictionary comprehension to create a\n",
    "dictionary where the keys are the words and the values are the\n",
    "lengths of those words."
   ]
  },
  {
   "cell_type": "code",
   "execution_count": 34,
   "metadata": {},
   "outputs": [],
   "source": [
    "words = [\"Hypothetical\", \"Ocean\", \"Journey\", \"Mountain\", \"Forest\", \"Sunflower\", \"Python\", \"Elephant\", \"Programming\", \"Uncharacteristically\"]"
   ]
  },
  {
   "cell_type": "code",
   "execution_count": 35,
   "metadata": {},
   "outputs": [
    {
     "data": {
      "text/plain": [
       "{'Hypothetical': 12,\n",
       " 'Ocean': 5,\n",
       " 'Journey': 7,\n",
       " 'Mountain': 8,\n",
       " 'Forest': 6,\n",
       " 'Sunflower': 9,\n",
       " 'Python': 6,\n",
       " 'Elephant': 8,\n",
       " 'Programming': 11,\n",
       " 'Uncharacteristically': 20}"
      ]
     },
     "execution_count": 35,
     "metadata": {},
     "output_type": "execute_result"
    }
   ],
   "source": [
    "{key: len(key) for key in words}"
   ]
  },
  {
   "cell_type": "markdown",
   "metadata": {},
   "source": [
    "# Tuple Comprehension Assignments"
   ]
  },
  {
   "cell_type": "markdown",
   "metadata": {},
   "source": [
    "6. Generate Coordinate Pairs:\n",
    "Create a list of tuples representing coordinate pairs (x, y) where\n",
    "x ranges from 0 to 5 and y ranges from 0 to 5."
   ]
  },
  {
   "cell_type": "code",
   "execution_count": 38,
   "metadata": {},
   "outputs": [
    {
     "data": {
      "text/plain": [
       "((0, 0),\n",
       " (0, 1),\n",
       " (0, 2),\n",
       " (0, 3),\n",
       " (0, 4),\n",
       " (0, 5),\n",
       " (1, 0),\n",
       " (1, 1),\n",
       " (1, 2),\n",
       " (1, 3),\n",
       " (1, 4),\n",
       " (1, 5),\n",
       " (2, 0),\n",
       " (2, 1),\n",
       " (2, 2),\n",
       " (2, 3),\n",
       " (2, 4),\n",
       " (2, 5),\n",
       " (3, 0),\n",
       " (3, 1),\n",
       " (3, 2),\n",
       " (3, 3),\n",
       " (3, 4),\n",
       " (3, 5),\n",
       " (4, 0),\n",
       " (4, 1),\n",
       " (4, 2),\n",
       " (4, 3),\n",
       " (4, 4),\n",
       " (4, 5),\n",
       " (5, 0),\n",
       " (5, 1),\n",
       " (5, 2),\n",
       " (5, 3),\n",
       " (5, 4),\n",
       " (5, 5))"
      ]
     },
     "execution_count": 38,
     "metadata": {},
     "output_type": "execute_result"
    }
   ],
   "source": [
    "coordinate_pairs = tuple((x,y) for x in range(0,6) for y in range(0,6))\n",
    "coordinate_pairs"
   ]
  },
  {
   "cell_type": "markdown",
   "metadata": {},
   "source": [
    "7. Flatten a Matrix:\n",
    "Given a 2D matrix represented as a list of lists, use tuple\n",
    "comprehension to flatten the matrix into a list of tuples."
   ]
  },
  {
   "cell_type": "code",
   "execution_count": 39,
   "metadata": {},
   "outputs": [
    {
     "data": {
      "text/plain": [
       "[[1, 2, 3], [4, 5, 6], [7, 8, 9], [10, 11, 12], [13, 14, 15]]"
      ]
     },
     "execution_count": 39,
     "metadata": {},
     "output_type": "execute_result"
    }
   ],
   "source": [
    "matrix = [[1,2,3],[4,5,6],[7,8,9],[10,11,12],[13,14,15]]\n",
    "matrix"
   ]
  },
  {
   "cell_type": "code",
   "execution_count": 41,
   "metadata": {},
   "outputs": [
    {
     "data": {
      "text/plain": [
       "(1, 2, 3, 4, 5, 6, 7, 8, 9, 10, 11, 12, 13, 14, 15)"
      ]
     },
     "execution_count": 41,
     "metadata": {},
     "output_type": "execute_result"
    }
   ],
   "source": [
    "flatten_matrix = tuple(x for ele in matrix for x in ele)\n",
    "flatten_matrix"
   ]
  },
  {
   "cell_type": "markdown",
   "metadata": {},
   "source": [
    "8. Tuples of Even Numbers:\n",
    "Generate a tuple of all even numbers from 1 to 20 using tuple\n",
    "comprehension."
   ]
  },
  {
   "cell_type": "code",
   "execution_count": 45,
   "metadata": {},
   "outputs": [
    {
     "data": {
      "text/plain": [
       "(2, 4, 6, 8, 10, 12, 14, 16, 18, 20)"
      ]
     },
     "execution_count": 45,
     "metadata": {},
     "output_type": "execute_result"
    }
   ],
   "source": [
    "even_numbers = tuple(x for x in range(2,21,2))\n",
    "even_numbers = tuple(x for x in range(1,21) if x%2==0)\n",
    "even_numbers"
   ]
  },
  {
   "cell_type": "markdown",
   "metadata": {},
   "source": [
    "9. Cartesian Product of Sets:\n",
    "Given two sets, use tuple comprehension to generate a list of\n",
    "tuples representing the Cartesian product of the sets."
   ]
  },
  {
   "cell_type": "code",
   "execution_count": 46,
   "metadata": {},
   "outputs": [],
   "source": [
    "set1 = {1, 2, 3, 4, 5, 6, 7, 8, 9, 10}\n",
    "set2 = {'a', 'b', 'c', 'd', 'e', 'f', 'g', 'h', 'i', 'j'}"
   ]
  },
  {
   "cell_type": "code",
   "execution_count": 48,
   "metadata": {},
   "outputs": [
    {
     "data": {
      "text/plain": [
       "((1, 'e'),\n",
       " (1, 'a'),\n",
       " (1, 'j'),\n",
       " (1, 'd'),\n",
       " (1, 'g'),\n",
       " (1, 'c'),\n",
       " (1, 'h'),\n",
       " (1, 'i'),\n",
       " (1, 'b'),\n",
       " (1, 'f'),\n",
       " (2, 'e'),\n",
       " (2, 'a'),\n",
       " (2, 'j'),\n",
       " (2, 'd'),\n",
       " (2, 'g'),\n",
       " (2, 'c'),\n",
       " (2, 'h'),\n",
       " (2, 'i'),\n",
       " (2, 'b'),\n",
       " (2, 'f'),\n",
       " (3, 'e'),\n",
       " (3, 'a'),\n",
       " (3, 'j'),\n",
       " (3, 'd'),\n",
       " (3, 'g'),\n",
       " (3, 'c'),\n",
       " (3, 'h'),\n",
       " (3, 'i'),\n",
       " (3, 'b'),\n",
       " (3, 'f'),\n",
       " (4, 'e'),\n",
       " (4, 'a'),\n",
       " (4, 'j'),\n",
       " (4, 'd'),\n",
       " (4, 'g'),\n",
       " (4, 'c'),\n",
       " (4, 'h'),\n",
       " (4, 'i'),\n",
       " (4, 'b'),\n",
       " (4, 'f'),\n",
       " (5, 'e'),\n",
       " (5, 'a'),\n",
       " (5, 'j'),\n",
       " (5, 'd'),\n",
       " (5, 'g'),\n",
       " (5, 'c'),\n",
       " (5, 'h'),\n",
       " (5, 'i'),\n",
       " (5, 'b'),\n",
       " (5, 'f'),\n",
       " (6, 'e'),\n",
       " (6, 'a'),\n",
       " (6, 'j'),\n",
       " (6, 'd'),\n",
       " (6, 'g'),\n",
       " (6, 'c'),\n",
       " (6, 'h'),\n",
       " (6, 'i'),\n",
       " (6, 'b'),\n",
       " (6, 'f'),\n",
       " (7, 'e'),\n",
       " (7, 'a'),\n",
       " (7, 'j'),\n",
       " (7, 'd'),\n",
       " (7, 'g'),\n",
       " (7, 'c'),\n",
       " (7, 'h'),\n",
       " (7, 'i'),\n",
       " (7, 'b'),\n",
       " (7, 'f'),\n",
       " (8, 'e'),\n",
       " (8, 'a'),\n",
       " (8, 'j'),\n",
       " (8, 'd'),\n",
       " (8, 'g'),\n",
       " (8, 'c'),\n",
       " (8, 'h'),\n",
       " (8, 'i'),\n",
       " (8, 'b'),\n",
       " (8, 'f'),\n",
       " (9, 'e'),\n",
       " (9, 'a'),\n",
       " (9, 'j'),\n",
       " (9, 'd'),\n",
       " (9, 'g'),\n",
       " (9, 'c'),\n",
       " (9, 'h'),\n",
       " (9, 'i'),\n",
       " (9, 'b'),\n",
       " (9, 'f'),\n",
       " (10, 'e'),\n",
       " (10, 'a'),\n",
       " (10, 'j'),\n",
       " (10, 'd'),\n",
       " (10, 'g'),\n",
       " (10, 'c'),\n",
       " (10, 'h'),\n",
       " (10, 'i'),\n",
       " (10, 'b'),\n",
       " (10, 'f'))"
      ]
     },
     "execution_count": 48,
     "metadata": {},
     "output_type": "execute_result"
    }
   ],
   "source": [
    "cartesian_product = tuple((x,y) for x in set1 for y in set2)\n",
    "cartesian_product"
   ]
  },
  {
   "cell_type": "markdown",
   "metadata": {},
   "source": [
    "10. Filter Vowels in a String:\n",
    "Given a string, create a tuple containing only the vowels from\n",
    "the string using tuple comprehension."
   ]
  },
  {
   "cell_type": "code",
   "execution_count": 58,
   "metadata": {},
   "outputs": [],
   "source": [
    "string = \"aedcbaeioudcbaioueioudcbaeiou\"\n"
   ]
  },
  {
   "cell_type": "code",
   "execution_count": 59,
   "metadata": {},
   "outputs": [
    {
     "data": {
      "text/plain": [
       "('a',\n",
       " 'e',\n",
       " 'a',\n",
       " 'e',\n",
       " 'i',\n",
       " 'o',\n",
       " 'u',\n",
       " 'a',\n",
       " 'i',\n",
       " 'o',\n",
       " 'u',\n",
       " 'e',\n",
       " 'i',\n",
       " 'o',\n",
       " 'u',\n",
       " 'a',\n",
       " 'e',\n",
       " 'i',\n",
       " 'o',\n",
       " 'u')"
      ]
     },
     "execution_count": 59,
     "metadata": {},
     "output_type": "execute_result"
    }
   ],
   "source": [
    "vowels = tuple(val for val in string.lower() if val in 'aeiou')\n",
    "vowels"
   ]
  }
 ],
 "metadata": {
  "kernelspec": {
   "display_name": "base",
   "language": "python",
   "name": "python3"
  },
  "language_info": {
   "codemirror_mode": {
    "name": "ipython",
    "version": 3
   },
   "file_extension": ".py",
   "mimetype": "text/x-python",
   "name": "python",
   "nbconvert_exporter": "python",
   "pygments_lexer": "ipython3",
   "version": "3.12.4"
  }
 },
 "nbformat": 4,
 "nbformat_minor": 2
}
