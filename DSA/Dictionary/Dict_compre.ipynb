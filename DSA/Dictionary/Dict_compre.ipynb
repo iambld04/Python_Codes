{
 "cells": [
  {
   "cell_type": "code",
   "execution_count": 1,
   "metadata": {},
   "outputs": [],
   "source": [
    "names = ['mariya','gendalf','batman']\n",
    "profs = ['programmer','wizard','superhero']"
   ]
  },
  {
   "cell_type": "code",
   "execution_count": 4,
   "metadata": {},
   "outputs": [
    {
     "data": {
      "text/plain": [
       "{'mariya': 'programmer', 'gendalf': 'wizard', 'batman': 'superhero'}"
      ]
     },
     "execution_count": 4,
     "metadata": {},
     "output_type": "execute_result"
    }
   ],
   "source": [
    "{key: value for (key,value) in zip(names,profs)}"
   ]
  },
  {
   "cell_type": "code",
   "execution_count": 5,
   "metadata": {},
   "outputs": [
    {
     "data": {
      "text/plain": [
       "{'mariya': 'programmer', 'gendalf': 'wizard', 'batman': 'superhero'}"
      ]
     },
     "execution_count": 5,
     "metadata": {},
     "output_type": "execute_result"
    }
   ],
   "source": [
    "{names[i]:profs[i] for i in range(len(profs))}"
   ]
  },
  {
   "cell_type": "code",
   "execution_count": 6,
   "metadata": {},
   "outputs": [],
   "source": [
    "import pandas as pd"
   ]
  },
  {
   "cell_type": "code",
   "execution_count": 7,
   "metadata": {},
   "outputs": [],
   "source": [
    "name = pd.DataFrame(['mariya','gendalf','batman'])\n",
    "prof = pd.DataFrame(['programmer','wizard','superhero'])"
   ]
  },
  {
   "cell_type": "code",
   "execution_count": 9,
   "metadata": {},
   "outputs": [
    {
     "data": {
      "text/plain": [
       "{'mariya': 'programmer', 'gendalf': 'wizard', 'batman': 'superhero'}"
      ]
     },
     "execution_count": 9,
     "metadata": {},
     "output_type": "execute_result"
    }
   ],
   "source": [
    "{key:value for (key,value) in zip(name[0],prof[0])}"
   ]
  },
  {
   "cell_type": "code",
   "execution_count": null,
   "metadata": {},
   "outputs": [],
   "source": [
    "# Unzipping: You can \"unzip\" a list of tuples using zip(*zipped):\n",
    "pairs = [('mariya', 'programmer'), ('gendalf', 'wizard'), ('batman', 'superhero')]\n",
    "names, professions = zip(*pairs)\n",
    "# names: ('mariya', 'gendalf', 'batman')\n",
    "# professions: ('programmer', 'wizard', 'superhero')\n"
   ]
  },
  {
   "cell_type": "code",
   "execution_count": 17,
   "metadata": {},
   "outputs": [
    {
     "data": {
      "text/plain": [
       "{'': 'programmer', 'gendalf---': 'wizard', 'batman---': 'superhero'}"
      ]
     },
     "execution_count": 17,
     "metadata": {},
     "output_type": "execute_result"
    }
   ],
   "source": [
    "{(key+'---' if key!='mariya' else \"\"): value for (key,value) in zip(name[0],prof[0]) }"
   ]
  },
  {
   "cell_type": "code",
   "execution_count": 18,
   "metadata": {},
   "outputs": [],
   "source": [
    "bases = ['A','T','C','G']"
   ]
  },
  {
   "cell_type": "code",
   "execution_count": 19,
   "metadata": {},
   "outputs": [
    {
     "data": {
      "text/plain": [
       "['A', 'C', 'A', 'G', 'G', 'A', 'G', 'A', 'C', 'T']"
      ]
     },
     "execution_count": 19,
     "metadata": {},
     "output_type": "execute_result"
    }
   ],
   "source": [
    "import random\n",
    "strand1 = random.choices(bases,k=10)\n",
    "strand1"
   ]
  },
  {
   "cell_type": "code",
   "execution_count": 23,
   "metadata": {},
   "outputs": [
    {
     "data": {
      "text/plain": [
       "{0: ['A', 'T'],\n",
       " 1: ['C', 'G'],\n",
       " 2: ['A', 'T'],\n",
       " 3: ['G', 'C'],\n",
       " 4: ['G', 'C'],\n",
       " 5: ['A', 'T'],\n",
       " 6: ['G', 'C'],\n",
       " 7: ['A', 'T'],\n",
       " 8: ['C', 'G'],\n",
       " 9: ['T', 'A']}"
      ]
     },
     "execution_count": 23,
     "metadata": {},
     "output_type": "execute_result"
    }
   ],
   "source": [
    "dna = {key:[value,('T' if value=='A' else 'A' if value=='T' else 'C' if value=='G' else 'G')] for (key,value) in enumerate(strand1)}\n",
    "dna"
   ]
  },
  {
   "cell_type": "code",
   "execution_count": 24,
   "metadata": {},
   "outputs": [
    {
     "data": {
      "text/plain": [
       "{0: ['A', 'T'],\n",
       " 1: ['C', 'G'],\n",
       " 2: ['A', 'T'],\n",
       " 3: ['G', 'C'],\n",
       " 4: ['G', 'C'],\n",
       " 5: ['A', 'T'],\n",
       " 6: ['G', 'C'],\n",
       " 7: ['A', 'T'],\n",
       " 8: ['C', 'G'],\n",
       " 9: ['T', 'A']}"
      ]
     },
     "execution_count": 24,
     "metadata": {},
     "output_type": "execute_result"
    }
   ],
   "source": [
    "pair = {\"A\":\"T\", \"C\":\"G\", \"G\":\"C\", \"T\":\"A\"}\n",
    "{key:[val,pair[val]] for (key,val) in enumerate(strand1)}"
   ]
  },
  {
   "cell_type": "code",
   "execution_count": 26,
   "metadata": {},
   "outputs": [],
   "source": [
    "keys = ['id','username','password']\n",
    "users = ['mariya','knbot']"
   ]
  },
  {
   "cell_type": "code",
   "execution_count": 29,
   "metadata": {},
   "outputs": [
    {
     "data": {
      "text/plain": [
       "[{'id': 0, 'username': 'mariya', 'password': None},\n",
       " {'id': 1, 'username': 'knbot', 'password': None}]"
      ]
     },
     "execution_count": 29,
     "metadata": {},
     "output_type": "execute_result"
    }
   ],
   "source": [
    "[{key:(i if key=='id' else users[i] if key=='username' else None) for key in keys} for i in range(len(users))]"
   ]
  },
  {
   "cell_type": "code",
   "execution_count": null,
   "metadata": {},
   "outputs": [],
   "source": []
  }
 ],
 "metadata": {
  "kernelspec": {
   "display_name": "base",
   "language": "python",
   "name": "python3"
  },
  "language_info": {
   "codemirror_mode": {
    "name": "ipython",
    "version": 3
   },
   "file_extension": ".py",
   "mimetype": "text/x-python",
   "name": "python",
   "nbconvert_exporter": "python",
   "pygments_lexer": "ipython3",
   "version": "3.12.4"
  }
 },
 "nbformat": 4,
 "nbformat_minor": 2
}
