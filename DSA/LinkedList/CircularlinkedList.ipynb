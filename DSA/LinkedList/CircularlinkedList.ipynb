{
 "cells": [
  {
   "cell_type": "code",
   "execution_count": 330,
   "metadata": {},
   "outputs": [],
   "source": [
    "class Node:\n",
    "    def __init__(self,data):\n",
    "        self.data = data\n",
    "        self.next = None\n",
    "  \n",
    "class CircularLinkedList:\n",
    "    def __init__(self):\n",
    "        self.head = None\n",
    "    \n",
    "    def print(self):\n",
    "        if(self.head != None):\n",
    "             temp = self.head.next\n",
    "             print(self.head.data,end='-> ')\n",
    "             while(temp != self.head):\n",
    "                 print(temp.data,end='-> ')\n",
    "                 temp = temp.next\n",
    "    \n",
    "    def addFirst(self,data):\n",
    "        new_node = Node(data)\n",
    "        if self.head is None:\n",
    "            self.head = new_node\n",
    "            new_node.next = self.head\n",
    "        else:\n",
    "            temp=self.head\n",
    "            while(temp.next != self.head):\n",
    "                temp = temp.next\n",
    "            temp.next = new_node\n",
    "            new_node.next = self.head\n",
    "            self.head = new_node\n",
    "    \n",
    "    def addFirstEfficient(self,data):\n",
    "        new_node = Node(data)\n",
    "        if self.head is None:\n",
    "            self.head = new_node\n",
    "            self.head.next = self.head\n",
    "        else:\n",
    "            new_node.next = self.head.next\n",
    "            self.head.next = new_node\n",
    "            self.head.data,new_node.data = new_node.data,self.head.data\n",
    "    \n",
    "    def addLast(self,data):\n",
    "        new_node = Node(data)\n",
    "        if self.head is None:\n",
    "            self.head = new_node\n",
    "            new_node.next = self.head\n",
    "        else:\n",
    "            temp = self.head\n",
    "            while(temp.next != self.head):\n",
    "                temp = temp.next\n",
    "            temp.next = new_node\n",
    "            new_node.next = self.head\n",
    "\n",
    "    def addLastEfficient(self,data):\n",
    "        new_node = Node(data)\n",
    "        if self.head is None:\n",
    "            self.head = new_node\n",
    "            new_node.next = self.head\n",
    "        else:\n",
    "            new_node.next = self.head.next\n",
    "            self.head.next = new_node\n",
    "            self.head.data,new_node.data = new_node.data,self.head.data\n",
    "            self.head = new_node\n",
    "            \n",
    "    def removeFirst(self):\n",
    "        if self.head is None:\n",
    "            raise NameError(\"cannot remove from empty linked list\")\n",
    "        elif self.head == self.head.next:\n",
    "            self.head = None\n",
    "        else:\n",
    "            temp = self.head.next\n",
    "            while(temp.next!=self.head):\n",
    "                temp=temp.next\n",
    "            temp.next = self.head.next\n",
    "            self.head = self.head.next\n",
    "            \n",
    "    def removeFirstEfficient(self):\n",
    "        if self.head is None:\n",
    "            raise NameError(\"cannot remove from empty linked list\")\n",
    "        elif self.head == self.head.next:\n",
    "            self.head = None\n",
    "        else:\n",
    "            self.head.data,self.head.next.data = self.head.next.data,self.head.data\n",
    "            self.head.next = self.head.next.next\n",
    "            \n",
    "    def removeLast(self):\n",
    "        if self.head is None:\n",
    "            raise NameError(\"cannot remove from empty linked list\")\n",
    "        elif self.head == self.head.next:\n",
    "            self.head = None\n",
    "        else:\n",
    "            temp = self.head\n",
    "            while(temp.next.next != self.head):\n",
    "                temp = temp.next\n",
    "            temp.next = self.head\n",
    "             \n"
   ]
  },
  {
   "cell_type": "code",
   "execution_count": 331,
   "metadata": {},
   "outputs": [
    {
     "name": "stdout",
     "output_type": "stream",
     "text": [
      "10-> 20-> 30-> "
     ]
    }
   ],
   "source": [
    "cll = CircularLinkedList()\n",
    "cll.head = Node(10)\n",
    "cll.head.next = Node(20)\n",
    "cll.head.next.next = Node(30)\n",
    "cll.head.next.next.next = cll.head\n",
    "cll.print()"
   ]
  },
  {
   "cell_type": "code",
   "execution_count": 332,
   "metadata": {},
   "outputs": [
    {
     "name": "stdout",
     "output_type": "stream",
     "text": [
      "40-> 30-> 20-> 10-> "
     ]
    }
   ],
   "source": [
    "# Add element at the beginning\n",
    "cll1 = CircularLinkedList()\n",
    "cll1.addFirst(10)\n",
    "cll1.addFirst(20)\n",
    "cll1.addFirst(30)\n",
    "cll1.addFirst(40)\n",
    "cll1.print()"
   ]
  },
  {
   "cell_type": "code",
   "execution_count": 333,
   "metadata": {},
   "outputs": [
    {
     "name": "stdout",
     "output_type": "stream",
     "text": [
      "60-> 50-> 40-> 30-> 20-> 10-> "
     ]
    }
   ],
   "source": [
    "cll1.addFirstEfficient(50)\n",
    "cll1.addFirstEfficient(60)\n",
    "cll1.print()"
   ]
  },
  {
   "cell_type": "code",
   "execution_count": 334,
   "metadata": {},
   "outputs": [
    {
     "name": "stdout",
     "output_type": "stream",
     "text": [
      "60-> 50-> 40-> 30-> 20-> 10-> 100-> 200-> 300-> 400-> "
     ]
    }
   ],
   "source": [
    "cll1.addLast(100)\n",
    "cll1.addLast(200)\n",
    "cll1.addLastEfficient(300)\n",
    "cll1.addLastEfficient(400)\n",
    "cll1.print()"
   ]
  },
  {
   "cell_type": "code",
   "execution_count": 335,
   "metadata": {},
   "outputs": [
    {
     "name": "stdout",
     "output_type": "stream",
     "text": [
      "50-> 40-> 30-> 20-> 10-> 100-> 200-> 300-> 400-> "
     ]
    }
   ],
   "source": [
    "cll1.removeFirst()\n",
    "cll1.print()"
   ]
  },
  {
   "cell_type": "code",
   "execution_count": 336,
   "metadata": {},
   "outputs": [
    {
     "name": "stdout",
     "output_type": "stream",
     "text": [
      "40-> 30-> 20-> 10-> 100-> 200-> 300-> 400-> "
     ]
    }
   ],
   "source": [
    "cll1.removeFirstEfficient()\n",
    "cll1.print()"
   ]
  },
  {
   "cell_type": "code",
   "execution_count": 337,
   "metadata": {},
   "outputs": [
    {
     "name": "stdout",
     "output_type": "stream",
     "text": [
      "40-> 30-> 20-> 10-> 100-> 200-> 300-> "
     ]
    }
   ],
   "source": [
    "cll1.removeLast()\n",
    "cll1.print()"
   ]
  }
 ],
 "metadata": {
  "kernelspec": {
   "display_name": "base",
   "language": "python",
   "name": "python3"
  },
  "language_info": {
   "codemirror_mode": {
    "name": "ipython",
    "version": 3
   },
   "file_extension": ".py",
   "mimetype": "text/x-python",
   "name": "python",
   "nbconvert_exporter": "python",
   "pygments_lexer": "ipython3",
   "version": "3.12.4"
  }
 },
 "nbformat": 4,
 "nbformat_minor": 2
}
