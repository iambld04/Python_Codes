{
 "cells": [
  {
   "cell_type": "code",
   "execution_count": 150,
   "metadata": {},
   "outputs": [],
   "source": [
    "# Disadvantages of arrays : Fixed size and write operations (i.e, insert/remove takes O(n) time)"
   ]
  },
  {
   "cell_type": "code",
   "execution_count": 151,
   "metadata": {},
   "outputs": [],
   "source": [
    "# Node - first part of node contains data and second part contains the adress of nexxt node, the first node is head node and the last node is tail, when tail is None that signifies end of node\n"
   ]
  },
  {
   "cell_type": "markdown",
   "metadata": {},
   "source": [
    "types of linked list\n",
    "- singly linked list\n",
    "- doubly linked list\n",
    "- circular linked list"
   ]
  },
  {
   "cell_type": "code",
   "execution_count": 152,
   "metadata": {},
   "outputs": [],
   "source": [
    "# Implementing a single node\n",
    "class Node:\n",
    "    def __init__(self,value):\n",
    "        self.data = value\n",
    "        self.next = None"
   ]
  },
  {
   "cell_type": "code",
   "execution_count": 153,
   "metadata": {},
   "outputs": [],
   "source": [
    "a = Node(10)\n",
    "b = Node(20)\n",
    "c = Node(30)"
   ]
  },
  {
   "cell_type": "code",
   "execution_count": 154,
   "metadata": {},
   "outputs": [
    {
     "name": "stdout",
     "output_type": "stream",
     "text": [
      "10\n",
      "<__main__.Node object at 0x0000029B4E605D90>\n",
      "<__main__.Node object at 0x0000029B4E606240>\n",
      "<__main__.Node object at 0x0000029B4E606240>\n",
      "<__main__.Node object at 0x0000029B4E604770>\n",
      "<__main__.Node object at 0x0000029B4E604770>\n"
     ]
    }
   ],
   "source": [
    "print(a.data)\n",
    "print(a)\n",
    "print(b)\n",
    "a.next=b\n",
    "print(a.next)\n",
    "b.next=c\n",
    "print(b.next)\n",
    "print(c)"
   ]
  },
  {
   "cell_type": "code",
   "execution_count": 155,
   "metadata": {},
   "outputs": [],
   "source": [
    "# insertion from beginning from head\n",
    "# insertion at last from tail\n",
    "# insertion in the middle"
   ]
  },
  {
   "cell_type": "markdown",
   "metadata": {},
   "source": [
    "# insertion from beginning from head\n",
    "- 3 steps are involved\n",
    "    - create a new node \n",
    "    - Address will to the current head\n",
    "    - reassigning the new node to be new head"
   ]
  },
  {
   "cell_type": "code",
   "execution_count": 156,
   "metadata": {},
   "outputs": [],
   "source": [
    "# Implementing a single node\n",
    "class Node:\n",
    "    def __init__(self,value):\n",
    "        self.data = value\n",
    "        self.next = None\n",
    "\n",
    "class LinkedList:\n",
    "    def __init__(self):\n",
    "         self.head = None\n",
    "         \n",
    "    def insert_at_beginning(self,value):\n",
    "        #1 create a new node with given value\n",
    "        new_node = Node(value)\n",
    "        #2 point adress pointer of new node towards new head\n",
    "        new_node.next = self.head\n",
    "        #3 reasigns head to new node\n",
    "        self.head = new_node\n",
    "    \n",
    "    def insert_after(self,prev_data,new_data):\n",
    "        prev=self.head\n",
    "        while prev is not None:\n",
    "            if prev.data == prev_data:\n",
    "                break\n",
    "            prev = prev.next\n",
    "        if prev is None:\n",
    "            print(\"node not found\")\n",
    "        else:\n",
    "            new_node = Node(new_data)\n",
    "            new_node.next = prev.next\n",
    "            prev.next = new_node\n",
    "            \n",
    "    def delete(self,item):\n",
    "        if self.head.data == item:\n",
    "            self.head = self.head.next\n",
    "            return\n",
    "        temp=self.head\n",
    "        while temp.next is not None:\n",
    "            if temp.next.data == item:\n",
    "                break\n",
    "            temp=temp.next\n",
    "        if temp.next is None:\n",
    "            print(\"item not found\")\n",
    "        else:\n",
    "            temp.next = temp.next.next\n",
    "    \n",
    "    def traverse(self):\n",
    "        temp = self.head\n",
    "        while temp is not None:\n",
    "            print(temp.data, end=' ')\n",
    "            temp = temp.next\n",
    "        "
   ]
  },
  {
   "cell_type": "code",
   "execution_count": 157,
   "metadata": {},
   "outputs": [],
   "source": [
    "LL = LinkedList()\n",
    "LL.insert_at_beginning(10)\n"
   ]
  },
  {
   "cell_type": "code",
   "execution_count": 158,
   "metadata": {},
   "outputs": [],
   "source": [
    "LL.insert_at_beginning(4)"
   ]
  },
  {
   "cell_type": "markdown",
   "metadata": {},
   "source": [
    "#traverse the linked list\n",
    "\n",
    "1. temp = head\n",
    "2. while temp != None\n",
    "    - print(temp.data)\n",
    "    - temp=temp.next"
   ]
  },
  {
   "cell_type": "code",
   "execution_count": 159,
   "metadata": {},
   "outputs": [
    {
     "name": "stdout",
     "output_type": "stream",
     "text": [
      "4 10 "
     ]
    }
   ],
   "source": [
    "LL.traverse()"
   ]
  },
  {
   "cell_type": "code",
   "execution_count": 160,
   "metadata": {},
   "outputs": [],
   "source": [
    "LL.insert_after(10,200)"
   ]
  },
  {
   "cell_type": "code",
   "execution_count": 161,
   "metadata": {},
   "outputs": [
    {
     "name": "stdout",
     "output_type": "stream",
     "text": [
      "4 10 200 "
     ]
    }
   ],
   "source": [
    "LL.traverse()"
   ]
  },
  {
   "cell_type": "code",
   "execution_count": 164,
   "metadata": {},
   "outputs": [
    {
     "name": "stdout",
     "output_type": "stream",
     "text": [
      "item not found\n"
     ]
    }
   ],
   "source": [
    "LL.delete(10)"
   ]
  },
  {
   "cell_type": "code",
   "execution_count": 163,
   "metadata": {},
   "outputs": [
    {
     "name": "stdout",
     "output_type": "stream",
     "text": [
      "4 200 "
     ]
    }
   ],
   "source": [
    "LL.traverse()"
   ]
  },
  {
   "cell_type": "markdown",
   "metadata": {},
   "source": [
    "#Insertion of an element after a specific node\n",
    "1. Find that specific node\n",
    "2. new_node.next = prev.next\n",
    "3. prev.next = new_node"
   ]
  }
 ],
 "metadata": {
  "kernelspec": {
   "display_name": "Python 3",
   "language": "python",
   "name": "python3"
  },
  "language_info": {
   "codemirror_mode": {
    "name": "ipython",
    "version": 3
   },
   "file_extension": ".py",
   "mimetype": "text/x-python",
   "name": "python",
   "nbconvert_exporter": "python",
   "pygments_lexer": "ipython3",
   "version": "3.12.5"
  }
 },
 "nbformat": 4,
 "nbformat_minor": 2
}
