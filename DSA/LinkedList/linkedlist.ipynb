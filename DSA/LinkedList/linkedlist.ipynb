{
 "cells": [
  {
   "cell_type": "code",
   "execution_count": 19,
   "metadata": {},
   "outputs": [],
   "source": [
    "# Disadvantages of arrays : Fixed size and write operations (i.e, insert/remove takes O(n) time)"
   ]
  },
  {
   "cell_type": "code",
   "execution_count": 20,
   "metadata": {},
   "outputs": [],
   "source": [
    "# Node - first part of node contains data and second part contains the adress of nexxt node, the first node is head node and the last node is tail, when tail is None that signifies end of node\n"
   ]
  },
  {
   "cell_type": "markdown",
   "metadata": {},
   "source": [
    "types of linked list\n",
    "- singly linked list\n",
    "- doubly linked list\n",
    "- circular linked list"
   ]
  },
  {
   "cell_type": "code",
   "execution_count": 21,
   "metadata": {},
   "outputs": [],
   "source": [
    "# Implementing a single node\n",
    "class Node:\n",
    "    def __init__(self,value):\n",
    "        self.data = value\n",
    "        self.next = None"
   ]
  },
  {
   "cell_type": "code",
   "execution_count": 22,
   "metadata": {},
   "outputs": [],
   "source": [
    "a = Node(10)\n",
    "b = Node(20)\n",
    "c = Node(30)"
   ]
  },
  {
   "cell_type": "code",
   "execution_count": 23,
   "metadata": {},
   "outputs": [
    {
     "name": "stdout",
     "output_type": "stream",
     "text": [
      "10\n",
      "<__main__.Node object at 0x000002AA075FF770>\n",
      "<__main__.Node object at 0x000002AA0751A540>\n",
      "<__main__.Node object at 0x000002AA0751A540>\n",
      "<__main__.Node object at 0x000002AA07519340>\n",
      "<__main__.Node object at 0x000002AA07519340>\n"
     ]
    }
   ],
   "source": [
    "print(a.data)\n",
    "print(a)\n",
    "print(b)\n",
    "a.next=b\n",
    "print(a.next)\n",
    "b.next=c\n",
    "print(b.next)\n",
    "print(c)"
   ]
  },
  {
   "cell_type": "code",
   "execution_count": 24,
   "metadata": {},
   "outputs": [],
   "source": [
    "# insertion from beginning from head\n",
    "# insertion at last from tail\n",
    "# insertion in the middle"
   ]
  },
  {
   "cell_type": "markdown",
   "metadata": {},
   "source": [
    "# insertion from beginning from head\n",
    "- 3 steps are involved\n",
    "    - create a new node \n",
    "    - Address will to the current head\n",
    "    - reassigning the new node to be new head"
   ]
  },
  {
   "cell_type": "code",
   "execution_count": 29,
   "metadata": {},
   "outputs": [],
   "source": [
    "# Implementing a single node\n",
    "class Node:\n",
    "    def __init__(self,value):\n",
    "        self.data = value\n",
    "        self.next = None\n",
    "\n",
    "class LinkedList:\n",
    "    def __init__(self):\n",
    "         self.head = None\n",
    "         \n",
    "    def insert(self,value):\n",
    "        #1 create a new node with given value\n",
    "        new_node = Node(value)\n",
    "        #2 point adress pointer of new node towards new head\n",
    "        new_node.next = self.head\n",
    "        #3 reasigns head to new node\n",
    "        self.head = new_node\n",
    "    \n",
    "    def traverse(self):\n",
    "        temp = self.head\n",
    "        while temp is not None:\n",
    "            print(temp.data, end=' ')\n",
    "            temp = temp.next\n",
    "        "
   ]
  },
  {
   "cell_type": "code",
   "execution_count": 30,
   "metadata": {},
   "outputs": [],
   "source": [
    "LL = LinkedList()\n",
    "LL.insert(10)\n",
    "LL.insert(4)\n",
    "LL.insert(6)"
   ]
  },
  {
   "cell_type": "markdown",
   "metadata": {},
   "source": [
    "#traverse the linked list\n",
    "\n",
    "1. temp = head\n",
    "2. while temp != None\n",
    "    - print(temp.data)\n",
    "    - temp=temp.next"
   ]
  },
  {
   "cell_type": "code",
   "execution_count": 31,
   "metadata": {},
   "outputs": [
    {
     "name": "stdout",
     "output_type": "stream",
     "text": [
      "6 4 10 "
     ]
    }
   ],
   "source": [
    "LL.traverse()"
   ]
  }
 ],
 "metadata": {
  "kernelspec": {
   "display_name": "Python 3",
   "language": "python",
   "name": "python3"
  },
  "language_info": {
   "codemirror_mode": {
    "name": "ipython",
    "version": 3
   },
   "file_extension": ".py",
   "mimetype": "text/x-python",
   "name": "python",
   "nbconvert_exporter": "python",
   "pygments_lexer": "ipython3",
   "version": "3.12.5"
  }
 },
 "nbformat": 4,
 "nbformat_minor": 2
}
